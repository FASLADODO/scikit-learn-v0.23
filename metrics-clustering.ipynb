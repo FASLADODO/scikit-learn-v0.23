{
 "cells": [
  {
   "cell_type": "code",
   "execution_count": 1,
   "metadata": {},
   "outputs": [],
   "source": [
    "%matplotlib inline"
   ]
  },
  {
   "cell_type": "markdown",
   "metadata": {},
   "source": [
    "## [Adjusted Rand Index (ARI)](https://scikit-learn.org/stable/modules/generated/sklearn.metrics.adjusted_rand_score.html#sklearn.metrics.adjusted_rand_score)\n",
    "- Measures the similarity of two assignments.\n",
    "- No assumptions required regarding cluster structures.\n",
    "- Requires knowledge of ground truth classes, which is rarely available."
   ]
  },
  {
   "cell_type": "code",
   "execution_count": 8,
   "metadata": {},
   "outputs": [
    {
     "name": "stdout",
     "output_type": "stream",
     "text": [
      "0.24242424242424246\n",
      "0.24242424242424246\n",
      "0.24242424242424246\n"
     ]
    }
   ],
   "source": [
    "from sklearn import metrics\n",
    "\n",
    "labels_true = [0, 0, 0, 1, 1, 1]\n",
    "labels_pred = [0, 0, 1, 1, 2, 2]\n",
    "print(metrics.adjusted_rand_score(labels_true, labels_pred))\n",
    "\n",
    "# One can permute 0 and 1 in predicted labels, rename 2 to 3, and get the same score.\n",
    "labels_pred = [1, 1, 0, 0, 3, 3]\n",
    "print(metrics.adjusted_rand_score(labels_true, labels_pred))\n",
    "\n",
    "# ARI is symmetric: swapping the argument does not change the score. \n",
    "# It can thus be used as a consensus measure.\n",
    "print(metrics.adjusted_rand_score(labels_pred, labels_true))\n"
   ]
  },
  {
   "cell_type": "markdown",
   "metadata": {},
   "source": [
    "- Perfect labeling is scored as 1.0.\n",
    "- Bad labelings have negative or near-zero scores."
   ]
  },
  {
   "cell_type": "code",
   "execution_count": 6,
   "metadata": {},
   "outputs": [
    {
     "name": "stdout",
     "output_type": "stream",
     "text": [
      "1.0\n",
      "-0.12903225806451613\n"
     ]
    }
   ],
   "source": [
    "labels_pred = labels_true[:]\n",
    "print(metrics.adjusted_rand_score(labels_true, labels_pred))\n",
    "\n",
    "labels_true = [0, 1, 2, 0, 3, 4, 5, 1]\n",
    "labels_pred = [1, 1, 0, 0, 2, 2, 2, 2]\n",
    "print(metrics.adjusted_rand_score(labels_true, labels_pred))"
   ]
  },
  {
   "cell_type": "markdown",
   "metadata": {},
   "source": [
    "## Example"
   ]
  },
  {
   "cell_type": "code",
   "execution_count": 9,
   "metadata": {},
   "outputs": [],
   "source": [
    "import numpy as np\n",
    "import matplotlib.pyplot as plt\n",
    "from time import time\n",
    "from sklearn import metrics\n",
    "\n",
    "# Compute score for 2 random uniform cluster labelings.\n",
    "# Both have the same number of clusters for each value\n",
    "# When fixed_n_classes is not None the first labeling is considered a ground\n",
    "# truth class assignment with fixed number of classes.\n",
    "\n",
    "def uniform_labelings_scores(score_func, \n",
    "                             n_samples, \n",
    "                             n_clusters_range,\n",
    "                             fixed_n_classes=None, \n",
    "                             n_runs=5, \n",
    "                             seed=42):\n",
    "    \n",
    "    random_labels = np.random.RandomState(seed).randint\n",
    "    scores        = np.zeros((len(n_clusters_range), n_runs))\n",
    "\n",
    "    if fixed_n_classes is not None:\n",
    "        labels_a = random_labels(low=0, \n",
    "                                 high=fixed_n_classes, \n",
    "                                 size=n_samples)\n",
    "\n",
    "    for i, k in enumerate(n_clusters_range):\n",
    "        for j in range(n_runs):\n",
    "            if fixed_n_classes is None:\n",
    "                labels_a = random_labels(low=0, \n",
    "                                         high=k, \n",
    "                                         size=n_samples)\n",
    "            labels_b = random_labels(low=0, \n",
    "                                     high=k, \n",
    "                                     size=n_samples)\n",
    "            scores[i, j] = score_func(labels_a, labels_b)\n",
    "    return scores\n"
   ]
  },
  {
   "cell_type": "code",
   "execution_count": 10,
   "metadata": {},
   "outputs": [],
   "source": [
    "def ami_score(U, V):\n",
    "    return metrics.adjusted_mutual_info_score(U, V)\n",
    "\n",
    "score_funcs = [\n",
    "    metrics.adjusted_rand_score,\n",
    "    metrics.v_measure_score,\n",
    "    ami_score,\n",
    "    metrics.mutual_info_score,\n",
    "]\n",
    "\n",
    "# 2 independent random clusterings with equal cluster number\n",
    "\n",
    "n_samples = 100\n",
    "n_clusters_range = np.linspace(2, n_samples, 10).astype(np.int)"
   ]
  },
  {
   "cell_type": "code",
   "execution_count": 11,
   "metadata": {},
   "outputs": [
    {
     "name": "stdout",
     "output_type": "stream",
     "text": [
      "Computing adjusted_rand_score for 10 values of n_clusters and n_samples=100\n",
      "done in 0.057s\n",
      "Computing v_measure_score for 10 values of n_clusters and n_samples=100\n",
      "done in 0.077s\n",
      "Computing ami_score for 10 values of n_clusters and n_samples=100\n",
      "done in 0.465s\n",
      "Computing mutual_info_score for 10 values of n_clusters and n_samples=100\n",
      "done in 0.065s\n",
      "Computing adjusted_rand_score for 10 values of n_clusters and n_samples=1000\n",
      "done in 0.068s\n",
      "Computing v_measure_score for 10 values of n_clusters and n_samples=1000\n",
      "done in 0.098s\n",
      "Computing ami_score for 10 values of n_clusters and n_samples=1000\n",
      "done in 0.313s\n",
      "Computing mutual_info_score for 10 values of n_clusters and n_samples=1000\n",
      "done in 0.075s\n"
     ]
    },
    {
     "data": {
      "image/png": "[encoded data removed]",
      "text/plain": [
       "<Figure size 432x288 with 1 Axes>"
      ]
     },
     "metadata": {
      "needs_background": "light"
     },
     "output_type": "display_data"
    },
    {
     "data": {
      "image/png": "[encoded data removed]",
      "text/plain": [
       "<Figure size 432x288 with 1 Axes>"
      ]
     },
     "metadata": {
      "needs_background": "light"
     },
     "output_type": "display_data"
    }
   ],
   "source": [
    "plt.figure(1)\n",
    "\n",
    "plots = []\n",
    "names = []\n",
    "for score_func in score_funcs:\n",
    "    print(\"Computing %s for %d values of n_clusters and n_samples=%d\"\n",
    "          % (score_func.__name__, len(n_clusters_range), n_samples))\n",
    "\n",
    "    t0 = time()\n",
    "    scores = uniform_labelings_scores(score_func, n_samples, n_clusters_range)\n",
    "    print(\"done in %0.3fs\" % (time() - t0))\n",
    "    plots.append(plt.errorbar(\n",
    "        n_clusters_range, np.median(scores, axis=1), scores.std(axis=1))[0])\n",
    "    names.append(score_func.__name__)\n",
    "\n",
    "plt.title(\"Clustering measures for 2 random uniform labelings\\n\"\n",
    "          \"with equal number of clusters\")\n",
    "plt.xlabel('Number of clusters (Number of samples is fixed to %d)' % n_samples)\n",
    "plt.ylabel('Score value')\n",
    "plt.legend(plots, names)\n",
    "plt.ylim(bottom=-0.05, top=1.05)\n",
    "\n",
    "\n",
    "# Random labeling with varying n_clusters against ground class labels\n",
    "# with fixed number of clusters\n",
    "\n",
    "n_samples = 1000\n",
    "n_clusters_range = np.linspace(2, 100, 10).astype(np.int)\n",
    "n_classes = 10\n",
    "\n",
    "plt.figure(2)\n",
    "\n",
    "plots = []\n",
    "names = []\n",
    "\n",
    "for score_func in score_funcs:\n",
    "    print(\"Computing %s for %d values of n_clusters and n_samples=%d\"\n",
    "          % (score_func.__name__, len(n_clusters_range), n_samples))\n",
    "\n",
    "    t0 = time()\n",
    "    scores = uniform_labelings_scores(score_func, n_samples, n_clusters_range,\n",
    "                                      fixed_n_classes=n_classes)\n",
    "    print(\"done in %0.3fs\" % (time() - t0))\n",
    "    plots.append(plt.errorbar(\n",
    "        n_clusters_range, scores.mean(axis=1), scores.std(axis=1))[0])\n",
    "    names.append(score_func.__name__)\n",
    "\n",
    "plt.title(\"Clustering measures for random uniform labeling\\n\"\n",
    "          \"against reference assignment with %d classes\" % n_classes)\n",
    "plt.xlabel('Number of clusters (Number of samples is fixed to %d)' % n_samples)\n",
    "plt.ylabel('Score value')\n",
    "plt.ylim(bottom=-0.05, top=1.05)\n",
    "plt.legend(plots, names)\n",
    "plt.show()"
   ]
  },
  {
   "cell_type": "markdown",
   "metadata": {},
   "source": [
    "## Mutual Information Scores: [Normalized](https://scikit-learn.org/stable/modules/generated/sklearn.metrics.normalized_mutual_info_score.html#sklearn.metrics.normalized_mutual_info_score), [Adjusted](https://scikit-learn.org/stable/modules/generated/sklearn.metrics.adjusted_mutual_info_score.html#sklearn.metrics.adjusted_mutual_info_score)\n",
    "- MI measures the agreement between a ground truth (```labels_true```) and a clustering algorithm assignment (```labels_pred```).\n",
    "- Normalized MI is more often used. Adjusted MI is a more recent variant and is normalized against chance."
   ]
  },
  {
   "cell_type": "code",
   "execution_count": 11,
   "metadata": {},
   "outputs": [
    {
     "data": {
      "text/plain": [
       "0.29879245817089006"
      ]
     },
     "execution_count": 11,
     "metadata": {},
     "output_type": "execute_result"
    }
   ],
   "source": [
    "from sklearn import metrics\n",
    "labels_true = [0, 0, 0, 1, 1, 1]\n",
    "labels_pred = [0, 0, 1, 1, 2, 2]\n",
    "\n",
    "metrics.adjusted_mutual_info_score(labels_true, labels_pred)  "
   ]
  },
  {
   "cell_type": "code",
   "execution_count": 12,
   "metadata": {},
   "outputs": [
    {
     "data": {
      "text/plain": [
       "0.29879245817089006"
      ]
     },
     "execution_count": 12,
     "metadata": {},
     "output_type": "execute_result"
    }
   ],
   "source": [
    "# permute 0,1 in predicted labels, rename 2 to 3, get same score\n",
    "labels_pred = [1, 1, 0, 0, 3, 3]\n",
    "metrics.adjusted_mutual_info_score(labels_true, labels_pred)  "
   ]
  },
  {
   "cell_type": "code",
   "execution_count": 13,
   "metadata": {},
   "outputs": [
    {
     "data": {
      "text/plain": [
       "0.29879245817089006"
      ]
     },
     "execution_count": 13,
     "metadata": {},
     "output_type": "execute_result"
    }
   ],
   "source": [
    "# symmetric (swapping arguments doesn't change scoring)\n",
    "metrics.adjusted_mutual_info_score(labels_pred, labels_true)  "
   ]
  },
  {
   "cell_type": "code",
   "execution_count": 14,
   "metadata": {},
   "outputs": [
    {
     "name": "stdout",
     "output_type": "stream",
     "text": [
      "1.0 1.0\n"
     ]
    }
   ],
   "source": [
    "# perfect labeling\n",
    "labels_pred = labels_true[:]\n",
    "\n",
    "print(metrics.adjusted_mutual_info_score(labels_true, labels_pred),\n",
    "      metrics.normalized_mutual_info_score(labels_true, labels_pred))\n"
   ]
  },
  {
   "cell_type": "code",
   "execution_count": 15,
   "metadata": {},
   "outputs": [
    {
     "data": {
      "text/plain": [
       "0.6931471805599452"
      ]
     },
     "execution_count": 15,
     "metadata": {},
     "output_type": "execute_result"
    }
   ],
   "source": [
    "# not true for mutual info score - harder to judge\n",
    "metrics.mutual_info_score(labels_true, labels_pred)  "
   ]
  },
  {
   "cell_type": "code",
   "execution_count": 16,
   "metadata": {},
   "outputs": [
    {
     "data": {
      "text/plain": [
       "-0.16666666666666655"
      ]
     },
     "execution_count": 16,
     "metadata": {},
     "output_type": "execute_result"
    }
   ],
   "source": [
    "# bad (independent) label scoring\n",
    "labels_true = [0, 1, 2, 0, 3, 4, 5, 1]\n",
    "labels_pred = [1, 1, 0, 0, 2, 2, 2, 2]\n",
    "metrics.adjusted_mutual_info_score(labels_true, labels_pred)"
   ]
  },
  {
   "cell_type": "markdown",
   "metadata": {},
   "source": [
    "## Example: demostrate impact of #clusters, #samples on metrics\n",
    "- non-adjusted measures (eg, V-measure) = dependent on #clusters, #samples\n",
    "- adjusted measures (eg, ARI) = display random variations around mean = 0.0\n",
    "- adjusted measures can be safely used as a consensus index to evaluate stability of clustering algos."
   ]
  },
  {
   "cell_type": "code",
   "execution_count": 17,
   "metadata": {},
   "outputs": [],
   "source": [
    "import numpy as np\n",
    "import matplotlib.pyplot as plt\n",
    "from time import time\n",
    "from sklearn import metrics\n",
    "\n",
    "# Compute score for 2 random uniform cluster labelings.\n",
    "# Both have the same number of clusters for each value possible value in ``n_clusters_range``.\n",
    "\n",
    "# When fixed_n_classes is not None the first labeling is considered a ground\n",
    "# truth class assignment with fixed number of classes.\n",
    "\n",
    "def uniform_labelings_scores(score_func, \n",
    "                             n_samples, \n",
    "                             n_clusters_range,\n",
    "                             fixed_n_classes=None, \n",
    "                             n_runs=5, \n",
    "                             seed=42):\n",
    "    random_labels = np.random.RandomState(seed).randint\n",
    "    scores        = np.zeros((len(n_clusters_range), n_runs))\n",
    "\n",
    "    if fixed_n_classes is not None:\n",
    "        labels_a = random_labels(low=0, \n",
    "                                 high=fixed_n_classes, \n",
    "                                 size=n_samples)\n",
    "\n",
    "    for i, k in enumerate(n_clusters_range):\n",
    "        for j in range(n_runs):\n",
    "            if fixed_n_classes is None:\n",
    "                labels_a = random_labels(low=0, \n",
    "                                         high=k, \n",
    "                                         size=n_samples)\n",
    "            labels_b = random_labels(low=0, \n",
    "                                     high=k, \n",
    "                                     size=n_samples)\n",
    "            scores[i, j] = score_func(labels_a, labels_b)\n",
    "    return scores\n"
   ]
  },
  {
   "cell_type": "code",
   "execution_count": 18,
   "metadata": {},
   "outputs": [],
   "source": [
    "def ami_score(U, V):\n",
    "    return metrics.adjusted_mutual_info_score(U, V)\n",
    "\n",
    "score_funcs = [\n",
    "    metrics.adjusted_rand_score,\n",
    "    metrics.v_measure_score,\n",
    "    ami_score,\n",
    "    metrics.mutual_info_score,\n",
    "]\n",
    "\n",
    "# 2 independent random clusterings with equal cluster number\n",
    "\n",
    "n_samples = 100\n",
    "n_clusters_range = np.linspace(2, n_samples, 10).astype(np.int)"
   ]
  },
  {
   "cell_type": "code",
   "execution_count": 19,
   "metadata": {},
   "outputs": [
    {
     "name": "stdout",
     "output_type": "stream",
     "text": [
      "Computing adjusted_rand_score for 10 values of n_clusters and n_samples=100\n",
      "done in 0.047s\n",
      "Computing v_measure_score for 10 values of n_clusters and n_samples=100\n",
      "done in 0.057s\n",
      "Computing ami_score for 10 values of n_clusters and n_samples=100\n",
      "done in 0.345s\n",
      "Computing mutual_info_score for 10 values of n_clusters and n_samples=100\n",
      "done in 0.047s\n",
      "Computing adjusted_rand_score for 10 values of n_clusters and n_samples=1000\n",
      "done in 0.051s\n",
      "Computing v_measure_score for 10 values of n_clusters and n_samples=1000\n",
      "done in 0.067s\n",
      "Computing ami_score for 10 values of n_clusters and n_samples=1000\n",
      "done in 0.237s\n",
      "Computing mutual_info_score for 10 values of n_clusters and n_samples=1000\n",
      "done in 0.057s\n"
     ]
    },
    {
     "data": {
      "image/png": "[encoded data removed]",
      "text/plain": [
       "<Figure size 432x288 with 1 Axes>"
      ]
     },
     "metadata": {
      "needs_background": "light"
     },
     "output_type": "display_data"
    },
    {
     "data": {
      "image/png": "[encoded data removed]",
      "text/plain": [
       "<Figure size 432x288 with 1 Axes>"
      ]
     },
     "metadata": {
      "needs_background": "light"
     },
     "output_type": "display_data"
    }
   ],
   "source": [
    "plt.figure(1)\n",
    "\n",
    "plots = []\n",
    "names = []\n",
    "for score_func in score_funcs:\n",
    "    print(\"Computing %s for %d values of n_clusters and n_samples=%d\"\n",
    "          % (score_func.__name__, len(n_clusters_range), n_samples))\n",
    "\n",
    "    t0 = time()\n",
    "    scores = uniform_labelings_scores(score_func, \n",
    "                                      n_samples, \n",
    "                                      n_clusters_range)\n",
    "    print(\"done in %0.3fs\" % (time() - t0))\n",
    "\n",
    "    plots.append(plt.errorbar(\n",
    "        n_clusters_range, \n",
    "        np.median(scores, axis=1), \n",
    "        scores.std(axis=1))[0])\n",
    "    \n",
    "    names.append(score_func.__name__)\n",
    "\n",
    "plt.title(\"Cluster measures for 2 random uniform labelings\\n\"\n",
    "          \"with equal #clusters\")\n",
    "plt.xlabel('#clusters (#samples is fixed to %d)' % n_samples)\n",
    "plt.ylabel('Score value')\n",
    "plt.legend(plots, names)\n",
    "plt.ylim(bottom=-0.05, top=1.05)\n",
    "\n",
    "# Random labeling with varying n_clusters against ground class labels\n",
    "# with fixed number of clusters\n",
    "\n",
    "n_samples        = 1000\n",
    "n_clusters_range = np.linspace(2, 100, 10).astype(np.int)\n",
    "n_classes        = 10\n",
    "\n",
    "plt.figure(2)\n",
    "\n",
    "plots = []\n",
    "names = []\n",
    "for score_func in score_funcs:\n",
    "    print(\"Computing %s for %d values of n_clusters and n_samples=%d\"\n",
    "          % (score_func.__name__, len(n_clusters_range), n_samples))\n",
    "\n",
    "    t0 = time()\n",
    "    scores = uniform_labelings_scores(score_func, \n",
    "                                      n_samples, \n",
    "                                      n_clusters_range,\n",
    "                                      fixed_n_classes=n_classes)\n",
    "    print(\"done in %0.3fs\" % (time() - t0))\n",
    "    \n",
    "    plots.append(plt.errorbar(\n",
    "        n_clusters_range, \n",
    "        scores.mean(axis=1), \n",
    "        scores.std(axis=1))[0])\n",
    "    \n",
    "    names.append(score_func.__name__)\n",
    "\n",
    "plt.title(\"Clustering measures for random uniform labeling\\n\"\n",
    "          \"against reference assignment with %d classes\" % n_classes)\n",
    "plt.xlabel('Number of clusters (Number of samples is fixed to %d)' % n_samples)\n",
    "plt.ylabel('Score value')\n",
    "plt.ylim(bottom=-0.05, top=1.05)\n",
    "plt.legend(plots, names)\n",
    "plt.show()"
   ]
  },
  {
   "cell_type": "markdown",
   "metadata": {},
   "source": [
    "## [Homogeneity](https://scikit-learn.org/stable/modules/generated/sklearn.metrics.homogeneity_score.html#sklearn.metrics.homogeneity_score), [Completeness](https://scikit-learn.org/stable/modules/generated/sklearn.metrics.completeness_score.html#sklearn.metrics.completeness_score), [V-Measure](https://scikit-learn.org/stable/modules/generated/sklearn.metrics.v_measure_score.html#sklearn.metrics.v_measure_score)\n",
    "- If ground truth class assignments are known, it's possible to define metrics using conditional entropy analysis.\n",
    "- *homogeneity*: each cluster contains only members of a single class. defined as $h = 1 - \\frac{H(C|K)}{H(C)}$\n",
    "- *completeness*: all members of a given class are assigned to the same cluster. defined as $c = 1 - \\frac{H(K|C)}{H(K)}$\n",
    "- *v-measure*: harmonic mean of 1),2)\n",
    "\n",
    "- based on *conditional entropy*: $H(C|K) = - \\sum_{c=1}^{|C|} \\sum_{k=1}^{|K|} \\frac{n_{c,k}}{n}\n",
    "\\cdot \\log\\left(\\frac{n_{c,k}}{n_k}\\right)$\n",
    "- and *class entropy*: $H(C) = - \\sum_{c=1}^{|C|} \\frac{n_c}{n} \\cdot \\log\\left(\\frac{n_c}{n}\\right)$"
   ]
  },
  {
   "cell_type": "code",
   "execution_count": 2,
   "metadata": {},
   "outputs": [
    {
     "name": "stdout",
     "output_type": "stream",
     "text": [
      "0.6666666666666669 0.420619835714305 0.5158037429793889\n"
     ]
    }
   ],
   "source": [
    "from sklearn import metrics\n",
    "labels_true = [0, 0, 0, 1, 1, 1]\n",
    "labels_pred = [0, 0, 1, 1, 2, 2]\n",
    "\n",
    "print(metrics.homogeneity_score( labels_true, labels_pred),\n",
    "      metrics.completeness_score(labels_true, labels_pred),\n",
    "      metrics.v_measure_score(   labels_true, labels_pred))"
   ]
  },
  {
   "cell_type": "markdown",
   "metadata": {},
   "source": [
    "## [Fowlkes-Mallows Scores](https://scikit-learn.org/stable/modules/generated/sklearn.metrics.fowlkes_mallows_score.html#sklearn.metrics.fowlkes_mallows_score)\n",
    "- Can be used when ground truth assignements are known.\n",
    "- Defined as $\\text{FMI} = \\frac{\\text{TP}}{\\sqrt{(\\text{TP} + \\text{FP}) (\\text{TP} + \\text{FN})}}$ (TP = true positives, FP = false positives, FN = false negatives)"
   ]
  },
  {
   "cell_type": "code",
   "execution_count": 12,
   "metadata": {},
   "outputs": [
    {
     "data": {
      "text/plain": [
       "0.4714045207910317"
      ]
     },
     "execution_count": 12,
     "metadata": {},
     "output_type": "execute_result"
    }
   ],
   "source": [
    "from sklearn import metrics\n",
    "labels_true = [0, 0, 0, 1, 1, 1]\n",
    "labels_pred = [0, 0, 1, 1, 2, 2]\n",
    "metrics.fowlkes_mallows_score(labels_true, labels_pred)\n"
   ]
  },
  {
   "cell_type": "code",
   "execution_count": 13,
   "metadata": {},
   "outputs": [
    {
     "data": {
      "text/plain": [
       "0.4714045207910317"
      ]
     },
     "execution_count": 13,
     "metadata": {},
     "output_type": "execute_result"
    }
   ],
   "source": [
    "labels_pred = [1, 1, 0, 0, 3, 3]\n",
    "metrics.fowlkes_mallows_score(labels_true, labels_pred)"
   ]
  },
  {
   "cell_type": "code",
   "execution_count": 14,
   "metadata": {},
   "outputs": [
    {
     "data": {
      "text/plain": [
       "1.0"
      ]
     },
     "execution_count": 14,
     "metadata": {},
     "output_type": "execute_result"
    }
   ],
   "source": [
    "labels_pred = labels_true[:]\n",
    "metrics.fowlkes_mallows_score(labels_true, labels_pred)"
   ]
  },
  {
   "cell_type": "code",
   "execution_count": 15,
   "metadata": {},
   "outputs": [
    {
     "data": {
      "text/plain": [
       "0.0"
      ]
     },
     "execution_count": 15,
     "metadata": {},
     "output_type": "execute_result"
    }
   ],
   "source": [
    "labels_true = [0, 1, 2, 0, 3, 4, 5, 1]\n",
    "labels_pred = [1, 1, 0, 0, 2, 2, 2, 2]\n",
    "metrics.fowlkes_mallows_score(labels_true, labels_pred)"
   ]
  },
  {
   "cell_type": "markdown",
   "metadata": {},
   "source": [
    "## [Silhouette Coefficient](https://scikit-learn.org/stable/modules/generated/sklearn.metrics.silhouette_score.html#sklearn.metrics.silhouette_score)\n",
    "- Used when ground truth info is NOT known (scoring comes from model itself.)\n",
    "- Higher scores = better cluster definitions.\n",
    "- Defined as $s = \\frac{b - a}{max(a, b)}$ (a = mean distance(sample, all other samples in same class), b = mean distance(sample, all other points in next nearest cluster))"
   ]
  },
  {
   "cell_type": "code",
   "execution_count": 16,
   "metadata": {},
   "outputs": [],
   "source": [
    "from sklearn import metrics\n",
    "from sklearn.metrics import pairwise_distances\n",
    "from sklearn import datasets\n",
    "X, y = datasets.load_iris(return_X_y=True)"
   ]
  },
  {
   "cell_type": "code",
   "execution_count": 17,
   "metadata": {},
   "outputs": [
    {
     "data": {
      "text/plain": [
       "0.5528190123564091"
      ]
     },
     "execution_count": 17,
     "metadata": {},
     "output_type": "execute_result"
    }
   ],
   "source": [
    "import numpy as np\n",
    "from sklearn.cluster import KMeans\n",
    "kmeans_model = KMeans(n_clusters=3, random_state=1).fit(X)\n",
    "labels       = kmeans_model.labels_\n",
    "metrics.silhouette_score(X, labels, metric='euclidean')"
   ]
  },
  {
   "cell_type": "markdown",
   "metadata": {},
   "source": [
    "## [Calinski-Harabasz Index](https://scikit-learn.org/stable/modules/generated/sklearn.metrics.calinski_harabasz_score.html#sklearn.metrics.calinski_harabasz_score) (aka Variance Ratio Criterion)\n",
    "- Used when ground truth info is NOT known.\n",
    "- Higher scores = better cluster definitions.\n",
    "- Defined as ratio (sum of between-clusters dispersion, inter-cluster disperson), where dispersion = sum of squared distances"
   ]
  },
  {
   "cell_type": "code",
   "execution_count": 18,
   "metadata": {},
   "outputs": [],
   "source": [
    "from sklearn import metrics\n",
    "from sklearn.metrics import pairwise_distances\n",
    "from sklearn import datasets\n",
    "X, y = datasets.load_iris(return_X_y=True)"
   ]
  },
  {
   "cell_type": "code",
   "execution_count": 19,
   "metadata": {},
   "outputs": [
    {
     "data": {
      "text/plain": [
       "561.62775662962"
      ]
     },
     "execution_count": 19,
     "metadata": {},
     "output_type": "execute_result"
    }
   ],
   "source": [
    "import numpy as np\n",
    "from sklearn.cluster import KMeans\n",
    "kmeans_model = KMeans(n_clusters=3, random_state=1).fit(X)\n",
    "labels = kmeans_model.labels_\n",
    "metrics.calinski_harabasz_score(X, labels)"
   ]
  },
  {
   "cell_type": "markdown",
   "metadata": {},
   "source": [
    "## [Davies-Bouldin Index](https://scikit-learn.org/stable/modules/generated/sklearn.metrics.davies_bouldin_score.html#sklearn.metrics.davies_bouldin_score)\n",
    "- Used when ground truth info is NOT known.\n",
    "- Measures average similarity between clusters - measured by distance comparisons between clusters with the clusters' sizes. Zero = lowest possible = better partitions."
   ]
  },
  {
   "cell_type": "code",
   "execution_count": 21,
   "metadata": {},
   "outputs": [
    {
     "data": {
      "text/plain": [
       "0.6619715465007511"
      ]
     },
     "execution_count": 21,
     "metadata": {},
     "output_type": "execute_result"
    }
   ],
   "source": [
    "from sklearn import datasets\n",
    "from sklearn.cluster import KMeans\n",
    "from sklearn.metrics import davies_bouldin_score\n",
    "X      = datasets.load_iris().data\n",
    "kmeans = KMeans(n_clusters=3, random_state=1).fit(X)\n",
    "labels = kmeans.labels_\n",
    "davies_bouldin_score(X, labels)"
   ]
  },
  {
   "cell_type": "markdown",
   "metadata": {},
   "source": [
    "## [Contingency Matrix](https://scikit-learn.org/stable/modules/generated/sklearn.metrics.cluster.contingency_matrix.html#sklearn.metrics.cluster.contingency_matrix)\n",
    "- Returns *intersection cardinality* for every true/predicted cluster pair.\n",
    "- Provides metric when samples are independent, identically distributed - one doesn't need to account for some instances not being clustered."
   ]
  },
  {
   "cell_type": "code",
   "execution_count": 22,
   "metadata": {},
   "outputs": [
    {
     "data": {
      "text/plain": [
       "array([[2, 1, 0],\n",
       "       [0, 1, 2]])"
      ]
     },
     "execution_count": 22,
     "metadata": {},
     "output_type": "execute_result"
    }
   ],
   "source": [
    "from sklearn.metrics.cluster import contingency_matrix\n",
    "x = [\"a\", \"a\", \"a\", \"b\", \"b\", \"b\"]\n",
    "y = [0, 0, 1, 1, 2, 2]\n",
    "contingency_matrix(x, y)\n",
    "\n",
    "# 1st row: three samples of true cluster being 'a' (two in c0, one in c1, none in c2)\n",
    "# 2nd row: three samples of true cluster being 'b' (one in c1, two in c2)"
   ]
  },
  {
   "cell_type": "code",
   "execution_count": null,
   "metadata": {},
   "outputs": [],
   "source": []
  }
 ],
 "metadata": {
  "kernelspec": {
   "display_name": "Python 3",
   "language": "python",
   "name": "python3"
  },
  "language_info": {
   "codemirror_mode": {
    "name": "ipython",
    "version": 3
   },
   "file_extension": ".py",
   "mimetype": "text/x-python",
   "name": "python",
   "nbconvert_exporter": "python",
   "pygments_lexer": "ipython3",
   "version": "3.6.9"
  }
 },
 "nbformat": 4,
 "nbformat_minor": 4
}

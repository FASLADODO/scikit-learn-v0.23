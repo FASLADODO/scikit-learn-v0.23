{
 "cells": [
  {
   "cell_type": "markdown",
   "metadata": {},
   "source": [
    "## Fitting and predicting: estimator basics"
   ]
  },
  {
   "cell_type": "code",
   "execution_count": 1,
   "metadata": {},
   "outputs": [
    {
     "data": {
      "text/plain": [
       "RandomForestClassifier(random_state=0)"
      ]
     },
     "execution_count": 1,
     "metadata": {},
     "output_type": "execute_result"
    }
   ],
   "source": [
    "from sklearn.ensemble import RandomForestClassifier\n",
    "clf = RandomForestClassifier(random_state=0)\n",
    "\n",
    "X = [[ 1,  2,  3],  # 2 samples, 3 features\n",
    "     [11, 12, 13]]\n",
    "y = [0, 1]  # classes of each sample\n",
    "\n",
    "clf.fit(X, y)"
   ]
  },
  {
   "cell_type": "markdown",
   "metadata": {},
   "source": [
    "- The fit method generally accepts 2 inputs:\n",
    "- The samples matrix X (n_samples, n_features) - samples are represented as rows, features are represented as columns.\n",
    "- The target values y (real numbers for regression tasks, or integers for classifications). \n",
    "    - For unsupervised learning tasks, y does not need to be specified. \n",
    "    - y is usually a 1d array where the ith entry corresponds to the target of the ith sample (row) of X.\n",
    "- Both X and y are usually numpy arrays. Some estimators work with other formats such as sparse matrices.\n",
    "- Once the estimator is fitted, it can be used for predicting target values of new data. You don’t need to re-train the estimator."
   ]
  },
  {
   "cell_type": "code",
   "execution_count": 2,
   "metadata": {},
   "outputs": [
    {
     "data": {
      "text/plain": [
       "array([0, 1])"
      ]
     },
     "execution_count": 2,
     "metadata": {},
     "output_type": "execute_result"
    }
   ],
   "source": [
    "clf.predict(X)  # predict classes of the training data"
   ]
  },
  {
   "cell_type": "code",
   "execution_count": 3,
   "metadata": {},
   "outputs": [
    {
     "data": {
      "text/plain": [
       "array([0, 1])"
      ]
     },
     "execution_count": 3,
     "metadata": {},
     "output_type": "execute_result"
    }
   ],
   "source": [
    "clf.predict([[4, 5, 6], [14, 15, 16]])  # predict classes of new data"
   ]
  },
  {
   "cell_type": "markdown",
   "metadata": {},
   "source": [
    "## Transformers and pre-processors\n",
    "- A typical pipeline has a pre-processing step that transforms or imputes the data, and a predictor that predicts target values."
   ]
  },
  {
   "cell_type": "code",
   "execution_count": 4,
   "metadata": {},
   "outputs": [
    {
     "data": {
      "text/plain": [
       "array([[-1.,  1.],\n",
       "       [ 1., -1.]])"
      ]
     },
     "execution_count": 4,
     "metadata": {},
     "output_type": "execute_result"
    }
   ],
   "source": [
    "from sklearn.preprocessing import StandardScaler\n",
    "X = [[0, 15], [1, -10]]\n",
    "\n",
    "StandardScaler().fit(X).transform(X)"
   ]
  },
  {
   "cell_type": "markdown",
   "metadata": {},
   "source": [
    "## Pipelines: chaining pre-processors and estimators\n",
    "- Transformers and estimators (predictors) can be combined into a Pipeline.\n",
    "    - Pipelines have the same API as regular estimators: they can be fitted and used for prediction with fit and predict. \n",
    "    - As we will see later, pipelines also prevent you from data leakage, (disclosing test data in your training data.)\n",
    "- Below: load the Iris dataset, split it into train and test sets, and compute the accuracy score of a pipeline on the test data."
   ]
  },
  {
   "cell_type": "code",
   "execution_count": 5,
   "metadata": {},
   "outputs": [
    {
     "data": {
      "text/plain": [
       "0.9736842105263158"
      ]
     },
     "execution_count": 5,
     "metadata": {},
     "output_type": "execute_result"
    }
   ],
   "source": [
    "from sklearn.preprocessing import StandardScaler\n",
    "from sklearn.linear_model import LogisticRegression\n",
    "from sklearn.pipeline import make_pipeline\n",
    "from sklearn.datasets import load_iris\n",
    "from sklearn.model_selection import train_test_split\n",
    "from sklearn.metrics import accuracy_score\n",
    "\n",
    "# create a pipeline object\n",
    "pipe = make_pipeline(\n",
    "    StandardScaler(),\n",
    "    LogisticRegression(random_state=0)\n",
    ")\n",
    "\n",
    "# load the iris dataset and split it into train and test sets\n",
    "X, y                             = load_iris(return_X_y=True)\n",
    "X_train, X_test, y_train, y_test = train_test_split(X, y, random_state=0)\n",
    "\n",
    "# fit the whole pipeline\n",
    "pipe.fit(X_train, y_train)\n",
    "\n",
    "# we can now use it like any other estimator\n",
    "accuracy_score(pipe.predict(X_test), y_test)"
   ]
  },
  {
   "cell_type": "markdown",
   "metadata": {},
   "source": [
    "## Model evaluation\n",
    "- Fitting a model does not ensure that it will predict well on unseen data. This needs to be evaluated. We just saw the **train_test_split** helper that splits a dataset into train and test sets.\n",
    "- Below: perform a **5-fold cross-validation** using the **cross_validate** helper. You also can manually iterate over the folds, use different data splitting strategies, and use custom scoring functions."
   ]
  },
  {
   "cell_type": "code",
   "execution_count": 6,
   "metadata": {},
   "outputs": [
    {
     "data": {
      "text/plain": [
       "array([1., 1., 1., 1., 1.])"
      ]
     },
     "execution_count": 6,
     "metadata": {},
     "output_type": "execute_result"
    }
   ],
   "source": [
    "from sklearn.datasets import make_regression\n",
    "from sklearn.linear_model import LinearRegression\n",
    "from sklearn.model_selection import cross_validate\n",
    "\n",
    "X, y   = make_regression(n_samples=1000, random_state=0)\n",
    "lr     = LinearRegression()\n",
    "result = cross_validate(lr, X, y)  # defaults to 5-fold CV\n",
    "result['test_score']  # r_squared score is high because dataset is easy"
   ]
  },
  {
   "cell_type": "markdown",
   "metadata": {},
   "source": [
    "## Automatic parameter searches\n",
    "- All estimators have tunable parameters (aka hyper-parameters). The generalization power of an estimator often depends on a few parameters. \n",
    "    - For example a **RandomForestRegressor** has a **n_estimators** parameter that sets the number of trees in the forest, and a **max_depth** parameter that sets the max depth of each tree. It's usually unclear what exact values of these parameters should be.\n",
    "\n",
    "- Scikit-learn can automatically find the best parameter combinations (via cross-validation). \n",
    "- Below: randomly search the parameters of a random forest with a **RandomizedSearchCV** object. When complete, **RandomizedSearchCV** behaves as an optimized **RandomForestRegressor**."
   ]
  },
  {
   "cell_type": "code",
   "execution_count": 7,
   "metadata": {},
   "outputs": [
    {
     "name": "stdout",
     "output_type": "stream",
     "text": [
      "{'max_depth': 9, 'n_estimators': 4}\n",
      "0.735363411343253\n"
     ]
    }
   ],
   "source": [
    "from sklearn.datasets import fetch_california_housing\n",
    "from sklearn.ensemble import RandomForestRegressor\n",
    "from sklearn.model_selection import RandomizedSearchCV\n",
    "from sklearn.model_selection import train_test_split\n",
    "from scipy.stats import randint\n",
    "\n",
    "X, y                             = fetch_california_housing(return_X_y=True)\n",
    "X_train, X_test, y_train, y_test = train_test_split(X, y, random_state=0)\n",
    "\n",
    "# define the parameter space\n",
    "param_distributions = {'n_estimators': randint(1, 5),\n",
    "                       'max_depth': randint(5, 10)}\n",
    "\n",
    "# now create a searchCV object and fit it to the data\n",
    "search = RandomizedSearchCV(estimator           = RandomForestRegressor(random_state=0),\n",
    "                            n_iter              = 5,\n",
    "                            param_distributions = param_distributions,\n",
    "                            random_state        = 0)\n",
    "search.fit(X_train, y_train)\n",
    "\n",
    "print(search.best_params_)\n",
    "\n",
    "# the search object now acts like a normal random forest estimator\n",
    "# with max_depth=9 and n_estimators=4\n",
    "print(search.score(X_test, y_test))"
   ]
  },
  {
   "cell_type": "markdown",
   "metadata": {},
   "source": [
    "- In practice, you almost always want to search over a pipeline, instead of a single estimator. \n",
    "    - If you apply a pre-processing step to the whole dataset without using a pipeline, and then perform any kind of cross-validation, you would be breaking the fundamental assumption of independence between training and testing data. \n",
    "    - Since you pre-processed the data using the whole dataset, some information about the test sets are available to the train sets. \n",
    "    - This leads to over-estimating the generalization power of the estimator.\n",
    "    - Using a pipeline for cross-validation and searching will largely keep you from this common pitfall."
   ]
  },
  {
   "cell_type": "markdown",
   "metadata": {},
   "source": [
    "## Next Steps\n",
    "- [User Guide](https://scikit-learn.org/stable/user_guide.html#user-guide)\n",
    "- [API](https://scikit-learn.org/stable/modules/classes.html#api-ref)\n",
    "- [Examples](https://scikit-learn.org/stable/auto_examples/index.html#general-examples)\n",
    "- [Tutorials](https://scikit-learn.org/stable/tutorial/index.html#tutorial-menu)"
   ]
  },
  {
   "cell_type": "code",
   "execution_count": null,
   "metadata": {},
   "outputs": [],
   "source": []
  }
 ],
 "metadata": {
  "kernelspec": {
   "display_name": "Python 3",
   "language": "python",
   "name": "python3"
  },
  "language_info": {
   "codemirror_mode": {
    "name": "ipython",
    "version": 3
   },
   "file_extension": ".py",
   "mimetype": "text/x-python",
   "name": "python",
   "nbconvert_exporter": "python",
   "pygments_lexer": "ipython3",
   "version": "3.6.9"
  }
 },
 "nbformat": 4,
 "nbformat_minor": 4
}

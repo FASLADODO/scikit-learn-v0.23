{
 "cells": [
  {
   "cell_type": "code",
   "execution_count": 1,
   "metadata": {},
   "outputs": [],
   "source": [
    "%matplotlib inline"
   ]
  },
  {
   "cell_type": "markdown",
   "metadata": {},
   "source": [
    "## [Multilabel metrics](https://scikit-learn.org/stable/modules/model_evaluation.html#classification-metrics)\n",
    "- In multilabel learning, each sample can multiple ground truth labels. The goal is to award high scores and better rank to the ground truth labels."
   ]
  },
  {
   "cell_type": "markdown",
   "metadata": {},
   "source": [
    "## [Coverage error](https://scikit-learn.org/stable/modules/generated/sklearn.metrics.coverage_error.html#sklearn.metrics.coverage_error)\n",
    "- finds the average number of labels that have to be included in the final prediction so that all true labels are included.\n",
    "- useful when you need to know how many top-scored labels you have to predict without missing any true ones."
   ]
  },
  {
   "cell_type": "code",
   "execution_count": 2,
   "metadata": {},
   "outputs": [
    {
     "data": {
      "text/plain": [
       "2.5"
      ]
     },
     "execution_count": 2,
     "metadata": {},
     "output_type": "execute_result"
    }
   ],
   "source": [
    "import numpy as np\n",
    "from sklearn.metrics import coverage_error\n",
    "y_true  = np.array([[1,    0,   0], [0, 0,   1  ]])\n",
    "y_score = np.array([[0.75, 0.5, 1], [1, 0.2, 0.1]])\n",
    "coverage_error(y_true, y_score)"
   ]
  },
  {
   "cell_type": "markdown",
   "metadata": {},
   "source": [
    "## [Label Ranking Average precision](https://scikit-learn.org/stable/modules/generated/sklearn.metrics.label_ranking_average_precision_score.html#sklearn.metrics.label_ranking_average_precision_score)\n",
    "- For each ground truth label, what fraction of higher-ranked labels were true ones?\n",
    "- Best answer is 1.0."
   ]
  },
  {
   "cell_type": "code",
   "execution_count": 3,
   "metadata": {},
   "outputs": [
    {
     "data": {
      "text/plain": [
       "0.41666666666666663"
      ]
     },
     "execution_count": 3,
     "metadata": {},
     "output_type": "execute_result"
    }
   ],
   "source": [
    "import numpy as np\n",
    "from sklearn.metrics import label_ranking_average_precision_score\n",
    "y_true  = np.array([[1,    0,   0], [0, 0,   1  ]])\n",
    "y_score = np.array([[0.75, 0.5, 1], [1, 0.2, 0.1]])\n",
    "label_ranking_average_precision_score(y_true, y_score)"
   ]
  },
  {
   "cell_type": "markdown",
   "metadata": {},
   "source": [
    "## [Ranking loss](https://scikit-learn.org/stable/modules/generated/sklearn.metrics.label_ranking_loss.html#sklearn.metrics.label_ranking_loss)\n",
    "- Average of the number of label pairs that are incorrectly ordered (ie, true labels with lower scores than false labels), weighted by the inverse of the number of ordered pairs."
   ]
  },
  {
   "cell_type": "code",
   "execution_count": 4,
   "metadata": {},
   "outputs": [
    {
     "name": "stdout",
     "output_type": "stream",
     "text": [
      "0.75\n",
      "0.0\n"
     ]
    }
   ],
   "source": [
    "import numpy as np\n",
    "from sklearn.metrics import label_ranking_loss\n",
    "y_true  = np.array([[1,    0,   0], [0, 0,   1  ]])\n",
    "y_score = np.array([[0.75, 0.5, 1], [1, 0.2, 0.1]])\n",
    "\n",
    "print(label_ranking_loss(y_true, y_score))\n",
    "\n",
    "# perfect and minimal loss\n",
    "y_score = np.array([[1.0, 0.1, 0.2], [0.1, 0.2, 0.9]])\n",
    "print(label_ranking_loss(y_true, y_score))"
   ]
  },
  {
   "cell_type": "markdown",
   "metadata": {},
   "source": [
    "## [Normalized Discounted Cumulative Gain, DCG & NDCG](https://en.wikipedia.org/wiki/Discounted_cumulative_gain)\n",
    "- Ranking metrics. They compare predicted order to ground-truth scores. See Wikipedia entry."
   ]
  }
 ],
 "metadata": {
  "kernelspec": {
   "display_name": "Python 3",
   "language": "python",
   "name": "python3"
  },
  "language_info": {
   "codemirror_mode": {
    "name": "ipython",
    "version": 3
   },
   "file_extension": ".py",
   "mimetype": "text/x-python",
   "name": "python",
   "nbconvert_exporter": "python",
   "pygments_lexer": "ipython3",
   "version": "3.6.9"
  }
 },
 "nbformat": 4,
 "nbformat_minor": 4
}

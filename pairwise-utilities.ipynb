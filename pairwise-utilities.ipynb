{
 "cells": [
  {
   "cell_type": "code",
   "execution_count": 1,
   "metadata": {},
   "outputs": [],
   "source": [
    "%matplotlib inline"
   ]
  },
  {
   "cell_type": "markdown",
   "metadata": {},
   "source": [
    "## [Pairwise Utilities](https://scikit-learn.org/stable/modules/metrics.html)\n",
    "- A set of metrics & kernels that are used to evaluate pairwise distances or affinities between sets of samples.\n",
    "- **Distances** are functions ```d(a,b)``` such that ```d(a,b) < d(a,c)``` if ```a``` and ```b``` are more similar than ```a``` and ```c```. Two identical objects have a distance of zero. Euclidean distance is the most common metric.\n",
    "- **Kernels** are measures of similarity. ```s(a,b) > s(a,c)``` if ```a``` and ```b``` are more similar than ```a``` and ```c```. Kernels must be positive semi-definite.\n",
    "- [pairwise distances](https://scikit-learn.org/stable/modules/generated/sklearn.metrics.pairwise_distances.html#sklearn.metrics.pairwise_distances) - measures the distances between row vectors of _X_ and _Y_.\n",
    "- [pairwise kernels](https://scikit-learn.org/stable/modules/generated/sklearn.metrics.pairwise.pairwise_kernels.html#sklearn.metrics.pairwise.pairwise_kernels) - measures the kernel between _X_ and _Y_ using a kernel function."
   ]
  },
  {
   "cell_type": "code",
   "execution_count": 3,
   "metadata": {},
   "outputs": [
    {
     "name": "stdout",
     "output_type": "stream",
     "text": [
      "[[ 4.  2.]\n",
      " [ 7.  5.]\n",
      " [12. 10.]] \n",
      "\n",
      " [[0. 3. 8.]\n",
      " [3. 0. 5.]\n",
      " [8. 5. 0.]] \n",
      "\n",
      " [[ 2.  7.]\n",
      " [ 3. 11.]\n",
      " [ 5. 18.]]\n"
     ]
    }
   ],
   "source": [
    "import numpy as np\n",
    "from sklearn.metrics          import pairwise_distances\n",
    "from sklearn.metrics.pairwise import pairwise_kernels\n",
    "\n",
    "X = np.array([[2, 3], [3, 5], [5, 8]])\n",
    "Y = np.array([[1, 0], [2, 1]]        )\n",
    "\n",
    "print(pairwise_distances(X, Y, metric='manhattan'), \"\\n\\n\",\n",
    "      pairwise_distances(X,    metric='manhattan'), \"\\n\\n\",\n",
    "      pairwise_kernels(  X, Y, metric='linear')\n",
    "     )"
   ]
  },
  {
   "cell_type": "markdown",
   "metadata": {},
   "source": [
    "## [Cosine Similarity](https://scikit-learn.org/stable/modules/generated/sklearn.metrics.pairwise.cosine_similarity.html#sklearn.metrics.pairwise.cosine_similarity)\n",
    "- Returns the dot product of two vectors, L2-normalized.\n",
    "- Defined as $k(x, y) = \\frac{x y^\\top}{\\|x\\| \\|y\\|}$\n",
    "- Euclidean (L2) normalization projects the vectors onto a unit sphere. Their dot product is the *cosine of the angle between the points* denoted by the vectors.\n",
    "- Popular for measuring similarity of documents modeled as tf-idf vectors.\n",
    "- Accepts scipy.sparse matrices."
   ]
  },
  {
   "cell_type": "markdown",
   "metadata": {},
   "source": [
    "## [Linear Kernels](https://scikit-learn.org/stable/modules/generated/sklearn.metrics.pairwise.linear_kernel.html#sklearn.metrics.pairwise.linear_kernel)\n",
    "- A special case of a polynomial kernel with ```degree=1``` and ```coef0=0\".\n",
    "- Defined as $k(x, y) = x^\\top y$"
   ]
  },
  {
   "cell_type": "markdown",
   "metadata": {},
   "source": [
    "## [Polynomial Kernels](https://scikit-learn.org/stable/modules/generated/sklearn.metrics.pairwise.polynomial_kernel.html#sklearn.metrics.pairwise.polynomial_kernel)\n",
    "- Returns a d-degree similarity between two vectors - not only for the same dimension, but also across dimensions. This enables accounting for feature interactions.\n",
    "- Defined as $k(x, y) = (\\gamma x^\\top y +c_0)^d$ where ```d``` is the kernel \"degree\". Described as \"homogeneous\" when $c_0 = 0$."
   ]
  },
  {
   "cell_type": "markdown",
   "metadata": {},
   "source": [
    "## [Sigmoid Kernels](https://scikit-learn.org/stable/modules/generated/sklearn.metrics.pairwise.sigmoid_kernel.html#sklearn.metrics.pairwise.sigmoid_kernel)\n",
    "- Also known as the *hyperbolic tangent* or *Multilayer Perceptron* due to its common use as a neuron activation function.\n",
    "- Defined as $k(x, y) = \\tanh( \\gamma x^\\top y + c_0)$ where $\\gamma$ is the slope and $c_0$ is the intercept."
   ]
  },
  {
   "cell_type": "markdown",
   "metadata": {},
   "source": [
    "## [Radial Basis Function (RBF) Kernels](https://scikit-learn.org/stable/modules/generated/sklearn.metrics.pairwise.rbf_kernel.html#sklearn.metrics.pairwise.rbf_kernel)\n",
    "- Returns the RBF kernel between two vectors.\n",
    "- Defined as $k(x, y) = \\exp( -\\gamma \\| x-y \\|^2)$\n",
    "- If $\\gamma = \\sigma^{-2}$, this is known a *Gaussian kernel* of variance $\\sigma^2$."
   ]
  },
  {
   "cell_type": "markdown",
   "metadata": {},
   "source": [
    "## [Laplace Kernels](https://scikit-learn.org/stable/modules/generated/sklearn.metrics.pairwise.laplacian_kernel.html#sklearn.metrics.pairwise.laplacian_kernel)\n",
    "- Variant of RBF kernel\n",
    "- Defined as $k(x, y) = \\exp( -\\gamma \\| x-y \\|_1)$ where $\\|x-y\\|_1$ is the Manhattan distance between input vectors.\n",
    "- Often used with noiseless data. \n",
    "- See [Quantum mechanics in a nutshell (Wiley)](https://onlinelibrary.wiley.com/doi/full/10.1002/qua.24954)"
   ]
  },
  {
   "cell_type": "markdown",
   "metadata": {},
   "source": [
    "## [Chi-Square Kernels](https://scikit-learn.org/stable/modules/generated/sklearn.metrics.pairwise.chi2_kernel.html#sklearn.metrics.pairwise.chi2_kernel)\n",
    "- Most commonly used on histograms (bags) of visual words.\n",
    "- Defined as $k(x, y) = \\exp \\left (-\\gamma \\sum_i \\frac{(x[i] - y[i]) ^ 2}{x[i] + y[i]} \\right )$"
   ]
  },
  {
   "cell_type": "code",
   "execution_count": 4,
   "metadata": {},
   "outputs": [
    {
     "data": {
      "text/plain": [
       "array([0, 1, 0, 1])"
      ]
     },
     "execution_count": 4,
     "metadata": {},
     "output_type": "execute_result"
    }
   ],
   "source": [
    "# common use case: trainer for non-linear SVMs (computer vision)\n",
    "from sklearn.svm import SVC\n",
    "from sklearn.metrics.pairwise import chi2_kernel\n",
    "\n",
    "X = [[0, 1], [1, 0], [.2, .8], [.7, .3]]\n",
    "y = [ 0,      1,      0,        1]\n",
    "\n",
    "K   = chi2_kernel(X, gamma=.5)\n",
    "svm = SVC(kernel='precomputed').fit(K, y)\n",
    "svm.predict(K)"
   ]
  },
  {
   "cell_type": "code",
   "execution_count": null,
   "metadata": {},
   "outputs": [],
   "source": []
  }
 ],
 "metadata": {
  "kernelspec": {
   "display_name": "Python 3",
   "language": "python",
   "name": "python3"
  },
  "language_info": {
   "codemirror_mode": {
    "name": "ipython",
    "version": 3
   },
   "file_extension": ".py",
   "mimetype": "text/x-python",
   "name": "python",
   "nbconvert_exporter": "python",
   "pygments_lexer": "ipython3",
   "version": "3.6.9"
  }
 },
 "nbformat": 4,
 "nbformat_minor": 4
}

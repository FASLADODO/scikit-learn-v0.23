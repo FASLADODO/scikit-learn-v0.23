{
 "cells": [
  {
   "cell_type": "markdown",
   "metadata": {},
   "source": [
    "## [Generalized (Tweedie) Regression](https://scikit-learn.org/stable/modules/generated/sklearn.linear_model.TweedieRegressor.html#sklearn.linear_model.TweedieRegressor)\n",
    "- Extends linear models in two ways:\n",
    "- 1) predicted values are linked to a linear combination of input variables via an inverse link function ```h```:\n",
    "\\hat{y}(w, X) = h(Xw).\n",
    "- 2) Squared loss function is replaced with a unit deviance from an exponential family distribution.\n",
    "- The loss function becomes: $\\min_{w} \\frac{1}{2 n_{\\text{samples}}} \\sum_i d(y_i, \\hat{y}_i) + \\frac{\\alpha}{2} ||w||_2$ where $\\alpha$ is the L2 regularization penalty.\n",
    "- Example EDMs include the Normal, Poisson, Gamma & Inverse Gaussian.\n",
    "    Probability Density Functions (PDFs) of these distributions are:\n",
    "![here](px/poisson_gamma_tweedie_distributions.png)\n",
    "\n",
    "- The choice of distribution depends on the target value datatype.\n",
    "    - if _counts_ or _relative frequencies_, --> Poisson deviance.\n",
    "    - if positive-valued & skewed, --> Gamma deviance.\n",
    "    - if heavier-tailed than a Gamma distribution, --> Inverse Gaussian deviance.\n",
    "    \n",
    "- Example use cases:\n",
    "    - agriculture:\n",
    "        - number of rain events/year (Poisson)\n",
    "        - rainfall/event (Gamma)\n",
    "        - total rainfall/year (Tweedie, compound Poisson Gamma)\n",
    "    - risk modeling:\n",
    "        - number of claims/policyholder/year (Poisson)\n",
    "        - cost/event (Gamma)\n",
    "        - total cost/policyholder/year (Tweedie/compound Poisson Gamma)\n",
    "    - predictive mainteance:\n",
    "        - number of interruptions/year (Poisson)\n",
    "        - duration/interruption (Gamma)\n",
    "        - total duration/year (Tweedie/compound Poisson Gamma)"
   ]
  },
  {
   "cell_type": "markdown",
   "metadata": {},
   "source": [
    "#### Usage:\n",
    "- Tweedie distribution can model various distributions using the ```power``` parameter:\n",
    "    - ```power=0```: Normal\n",
    "    - ```power=1```: Poisson\n",
    "    - ```power=2```: Gamma\n",
    "    - ```power=3```: Inverse Gaussian\n",
    "- the link function is set via ```link```."
   ]
  },
  {
   "cell_type": "code",
   "execution_count": 1,
   "metadata": {},
   "outputs": [
    {
     "name": "stdout",
     "output_type": "stream",
     "text": [
      "[0.24631611 0.43370317] -0.7638091359123445\n"
     ]
    }
   ],
   "source": [
    "from sklearn.linear_model import TweedieRegressor\n",
    "reg = TweedieRegressor(power=1, alpha=0.5, link='log')\n",
    "reg.fit([[0, 0], [0, 1], [2, 2]], [0, 1, 2])\n",
    "\n",
    "print(reg.coef_, reg.intercept_)"
   ]
  },
  {
   "cell_type": "markdown",
   "metadata": {},
   "source": [
    "#### Example: log-linear Poisson regression\n",
    "- uses [French Motor 3rd party Liability Claims](https://www.openml.org/d/41214) dataset.\n",
    "- compares it to linear model fitted with LSE and a non-linear GBRT model fitted with Poisson loss & a log-link.\n",
    "- goal: predict frequency of claims for new policyholders, given historical data"
   ]
  },
  {
   "cell_type": "code",
   "execution_count": 2,
   "metadata": {},
   "outputs": [],
   "source": [
    "import numpy as np\n",
    "import matplotlib.pyplot as plt\n",
    "import pandas as pd"
   ]
  },
  {
   "cell_type": "code",
   "execution_count": 3,
   "metadata": {},
   "outputs": [
    {
     "name": "stderr",
     "output_type": "stream",
     "text": [
      "/home/bjpcjp/.local/lib/python3.6/site-packages/sklearn/datasets/_openml.py:759: UserWarning: Version 1 of dataset freMTPL2freq is inactive, meaning that issues have been found in the dataset. Try using a newer version from this URL: https://www.openml.org/data/v1/download/20649148/freMTPL2freq.arff\n",
      "  data_description['url']))\n"
     ]
    },
    {
     "data": {
      "text/html": [
       "<div>\n",
       "<style scoped>\n",
       "    .dataframe tbody tr th:only-of-type {\n",
       "        vertical-align: middle;\n",
       "    }\n",
       "\n",
       "    .dataframe tbody tr th {\n",
       "        vertical-align: top;\n",
       "    }\n",
       "\n",
       "    .dataframe thead th {\n",
       "        text-align: right;\n",
       "    }\n",
       "</style>\n",
       "<table border=\"1\" class=\"dataframe\">\n",
       "  <thead>\n",
       "    <tr style=\"text-align: right;\">\n",
       "      <th></th>\n",
       "      <th>IDpol</th>\n",
       "      <th>ClaimNb</th>\n",
       "      <th>Exposure</th>\n",
       "      <th>Area</th>\n",
       "      <th>VehPower</th>\n",
       "      <th>VehAge</th>\n",
       "      <th>DrivAge</th>\n",
       "      <th>BonusMalus</th>\n",
       "      <th>VehBrand</th>\n",
       "      <th>VehGas</th>\n",
       "      <th>Density</th>\n",
       "      <th>Region</th>\n",
       "    </tr>\n",
       "  </thead>\n",
       "  <tbody>\n",
       "    <tr>\n",
       "      <th>0</th>\n",
       "      <td>1.0</td>\n",
       "      <td>1.0</td>\n",
       "      <td>0.10000</td>\n",
       "      <td>D</td>\n",
       "      <td>5.0</td>\n",
       "      <td>0.0</td>\n",
       "      <td>55.0</td>\n",
       "      <td>50.0</td>\n",
       "      <td>B12</td>\n",
       "      <td>Regular</td>\n",
       "      <td>1217.0</td>\n",
       "      <td>R82</td>\n",
       "    </tr>\n",
       "    <tr>\n",
       "      <th>1</th>\n",
       "      <td>3.0</td>\n",
       "      <td>1.0</td>\n",
       "      <td>0.77000</td>\n",
       "      <td>D</td>\n",
       "      <td>5.0</td>\n",
       "      <td>0.0</td>\n",
       "      <td>55.0</td>\n",
       "      <td>50.0</td>\n",
       "      <td>B12</td>\n",
       "      <td>Regular</td>\n",
       "      <td>1217.0</td>\n",
       "      <td>R82</td>\n",
       "    </tr>\n",
       "    <tr>\n",
       "      <th>2</th>\n",
       "      <td>5.0</td>\n",
       "      <td>1.0</td>\n",
       "      <td>0.75000</td>\n",
       "      <td>B</td>\n",
       "      <td>6.0</td>\n",
       "      <td>2.0</td>\n",
       "      <td>52.0</td>\n",
       "      <td>50.0</td>\n",
       "      <td>B12</td>\n",
       "      <td>Diesel</td>\n",
       "      <td>54.0</td>\n",
       "      <td>R22</td>\n",
       "    </tr>\n",
       "    <tr>\n",
       "      <th>3</th>\n",
       "      <td>10.0</td>\n",
       "      <td>1.0</td>\n",
       "      <td>0.09000</td>\n",
       "      <td>B</td>\n",
       "      <td>7.0</td>\n",
       "      <td>0.0</td>\n",
       "      <td>46.0</td>\n",
       "      <td>50.0</td>\n",
       "      <td>B12</td>\n",
       "      <td>Diesel</td>\n",
       "      <td>76.0</td>\n",
       "      <td>R72</td>\n",
       "    </tr>\n",
       "    <tr>\n",
       "      <th>4</th>\n",
       "      <td>11.0</td>\n",
       "      <td>1.0</td>\n",
       "      <td>0.84000</td>\n",
       "      <td>B</td>\n",
       "      <td>7.0</td>\n",
       "      <td>0.0</td>\n",
       "      <td>46.0</td>\n",
       "      <td>50.0</td>\n",
       "      <td>B12</td>\n",
       "      <td>Diesel</td>\n",
       "      <td>76.0</td>\n",
       "      <td>R72</td>\n",
       "    </tr>\n",
       "    <tr>\n",
       "      <th>...</th>\n",
       "      <td>...</td>\n",
       "      <td>...</td>\n",
       "      <td>...</td>\n",
       "      <td>...</td>\n",
       "      <td>...</td>\n",
       "      <td>...</td>\n",
       "      <td>...</td>\n",
       "      <td>...</td>\n",
       "      <td>...</td>\n",
       "      <td>...</td>\n",
       "      <td>...</td>\n",
       "      <td>...</td>\n",
       "    </tr>\n",
       "    <tr>\n",
       "      <th>678008</th>\n",
       "      <td>6114326.0</td>\n",
       "      <td>0.0</td>\n",
       "      <td>0.00274</td>\n",
       "      <td>E</td>\n",
       "      <td>4.0</td>\n",
       "      <td>0.0</td>\n",
       "      <td>54.0</td>\n",
       "      <td>50.0</td>\n",
       "      <td>B12</td>\n",
       "      <td>Regular</td>\n",
       "      <td>3317.0</td>\n",
       "      <td>R93</td>\n",
       "    </tr>\n",
       "    <tr>\n",
       "      <th>678009</th>\n",
       "      <td>6114327.0</td>\n",
       "      <td>0.0</td>\n",
       "      <td>0.00274</td>\n",
       "      <td>E</td>\n",
       "      <td>4.0</td>\n",
       "      <td>0.0</td>\n",
       "      <td>41.0</td>\n",
       "      <td>95.0</td>\n",
       "      <td>B12</td>\n",
       "      <td>Regular</td>\n",
       "      <td>9850.0</td>\n",
       "      <td>R11</td>\n",
       "    </tr>\n",
       "    <tr>\n",
       "      <th>678010</th>\n",
       "      <td>6114328.0</td>\n",
       "      <td>0.0</td>\n",
       "      <td>0.00274</td>\n",
       "      <td>D</td>\n",
       "      <td>6.0</td>\n",
       "      <td>2.0</td>\n",
       "      <td>45.0</td>\n",
       "      <td>50.0</td>\n",
       "      <td>B12</td>\n",
       "      <td>Diesel</td>\n",
       "      <td>1323.0</td>\n",
       "      <td>R82</td>\n",
       "    </tr>\n",
       "    <tr>\n",
       "      <th>678011</th>\n",
       "      <td>6114329.0</td>\n",
       "      <td>0.0</td>\n",
       "      <td>0.00274</td>\n",
       "      <td>B</td>\n",
       "      <td>4.0</td>\n",
       "      <td>0.0</td>\n",
       "      <td>60.0</td>\n",
       "      <td>50.0</td>\n",
       "      <td>B12</td>\n",
       "      <td>Regular</td>\n",
       "      <td>95.0</td>\n",
       "      <td>R26</td>\n",
       "    </tr>\n",
       "    <tr>\n",
       "      <th>678012</th>\n",
       "      <td>6114330.0</td>\n",
       "      <td>0.0</td>\n",
       "      <td>0.00274</td>\n",
       "      <td>B</td>\n",
       "      <td>7.0</td>\n",
       "      <td>6.0</td>\n",
       "      <td>29.0</td>\n",
       "      <td>54.0</td>\n",
       "      <td>B12</td>\n",
       "      <td>Diesel</td>\n",
       "      <td>65.0</td>\n",
       "      <td>R72</td>\n",
       "    </tr>\n",
       "  </tbody>\n",
       "</table>\n",
       "<p>678013 rows × 12 columns</p>\n",
       "</div>"
      ],
      "text/plain": [
       "            IDpol  ClaimNb  Exposure Area  VehPower  VehAge  DrivAge  \\\n",
       "0             1.0      1.0   0.10000    D       5.0     0.0     55.0   \n",
       "1             3.0      1.0   0.77000    D       5.0     0.0     55.0   \n",
       "2             5.0      1.0   0.75000    B       6.0     2.0     52.0   \n",
       "3            10.0      1.0   0.09000    B       7.0     0.0     46.0   \n",
       "4            11.0      1.0   0.84000    B       7.0     0.0     46.0   \n",
       "...           ...      ...       ...  ...       ...     ...      ...   \n",
       "678008  6114326.0      0.0   0.00274    E       4.0     0.0     54.0   \n",
       "678009  6114327.0      0.0   0.00274    E       4.0     0.0     41.0   \n",
       "678010  6114328.0      0.0   0.00274    D       6.0     2.0     45.0   \n",
       "678011  6114329.0      0.0   0.00274    B       4.0     0.0     60.0   \n",
       "678012  6114330.0      0.0   0.00274    B       7.0     6.0     29.0   \n",
       "\n",
       "        BonusMalus VehBrand   VehGas  Density Region  \n",
       "0             50.0      B12  Regular   1217.0    R82  \n",
       "1             50.0      B12  Regular   1217.0    R82  \n",
       "2             50.0      B12   Diesel     54.0    R22  \n",
       "3             50.0      B12   Diesel     76.0    R72  \n",
       "4             50.0      B12   Diesel     76.0    R72  \n",
       "...            ...      ...      ...      ...    ...  \n",
       "678008        50.0      B12  Regular   3317.0    R93  \n",
       "678009        95.0      B12  Regular   9850.0    R11  \n",
       "678010        50.0      B12   Diesel   1323.0    R82  \n",
       "678011        50.0      B12  Regular     95.0    R26  \n",
       "678012        54.0      B12   Diesel     65.0    R72  \n",
       "\n",
       "[678013 rows x 12 columns]"
      ]
     },
     "execution_count": 3,
     "metadata": {},
     "output_type": "execute_result"
    }
   ],
   "source": [
    "from sklearn.datasets import fetch_openml\n",
    "df = fetch_openml(data_id=41214, as_frame=True).frame\n",
    "df"
   ]
  },
  {
   "cell_type": "markdown",
   "metadata": {},
   "source": [
    "- Number of claims can be modeled as a Poisson.\n",
    "- Model the frequency ```y = ClaimNb/Exposure``` conditionally on X via a scaled Poisson distribution. Use ```Exposure``` as ```sample_weight```."
   ]
  },
  {
   "cell_type": "code",
   "execution_count": 4,
   "metadata": {},
   "outputs": [
    {
     "name": "stdout",
     "output_type": "stream",
     "text": [
      "Avg Frequency = 0.10070308464041304\n",
      "%Exposure with zero claims = 93.9%\n"
     ]
    },
    {
     "data": {
      "image/png": "[encoded data removed]",
      "text/plain": [
       "<Figure size 1152x288 with 3 Axes>"
      ]
     },
     "metadata": {
      "needs_background": "light"
     },
     "output_type": "display_data"
    }
   ],
   "source": [
    "df[\"Frequency\"] = df[\"ClaimNb\"] / df[\"Exposure\"]\n",
    "\n",
    "print(\"Avg Frequency = {}\"\n",
    "      .format(np.average(df[\"Frequency\"], weights=df[\"Exposure\"])))\n",
    "\n",
    "print(\"%Exposure with zero claims = {0:.1%}\"\n",
    "      .format(df.loc[df[\"ClaimNb\"] == 0, \"Exposure\"].sum() /\n",
    "              df[\"Exposure\"].sum()))\n",
    "\n",
    "fig, (ax0, ax1, ax2) = plt.subplots(ncols=3, figsize=(16, 4))\n",
    "ax0.set_title(\"#claims\")\n",
    "_ = df[\"ClaimNb\"].hist(bins=30, log=True, ax=ax0)\n",
    "ax1.set_title(\"Exposure in years\")\n",
    "_ = df[\"Exposure\"].hist(bins=30, log=True, ax=ax1)\n",
    "ax2.set_title(\"Frequency (#claims/year)\")\n",
    "_ = df[\"Frequency\"].hist(bins=30, log=True, ax=ax2)"
   ]
  },
  {
   "cell_type": "markdown",
   "metadata": {},
   "source": [
    "- Remaining columns used to predict claim frequencies. Columns are a mix of datatypes with different scales & distributions.\n",
    "- Need to do feature transforms first."
   ]
  },
  {
   "cell_type": "code",
   "execution_count": 5,
   "metadata": {},
   "outputs": [],
   "source": [
    "from sklearn.pipeline import make_pipeline\n",
    "from sklearn.preprocessing import FunctionTransformer, OneHotEncoder\n",
    "from sklearn.preprocessing import StandardScaler, KBinsDiscretizer\n",
    "from sklearn.compose import ColumnTransformer\n",
    "\n",
    "\n",
    "log_scale_transformer = make_pipeline(\n",
    "    FunctionTransformer(np.log, validate=False),\n",
    "    StandardScaler()\n",
    ")\n",
    "\n",
    "linear_model_preprocessor = ColumnTransformer(\n",
    "    [\n",
    "        (\"passthrough_numeric\", \"passthrough\",\n",
    "            [\"BonusMalus\"]),\n",
    "        (\"binned_numeric\", KBinsDiscretizer(n_bins=10),\n",
    "            [\"VehAge\", \"DrivAge\"]),\n",
    "        (\"log_scaled_numeric\", log_scale_transformer,\n",
    "            [\"Density\"]),\n",
    "        (\"onehot_categorical\", OneHotEncoder(),\n",
    "            [\"VehBrand\", \"VehPower\", \"VehGas\", \"Region\", \"Area\"]),\n",
    "    ],\n",
    "    remainder=\"drop\",\n",
    ")"
   ]
  },
  {
   "cell_type": "markdown",
   "metadata": {},
   "source": [
    "- Note: >93% of policyholders = zero claims. Converting this problem to binary classification means dataset would be badly imbalanced.\n",
    "- To do evaluation use a baseline dummy estimator that constantly predicts mean frequency of training samples."
   ]
  },
  {
   "cell_type": "code",
   "execution_count": 6,
   "metadata": {},
   "outputs": [],
   "source": [
    "from sklearn.dummy import DummyRegressor\n",
    "from sklearn.pipeline import Pipeline\n",
    "from sklearn.model_selection import train_test_split\n",
    "\n",
    "df_train, df_test = train_test_split(\n",
    "    df, test_size=0.33, random_state=0)\n",
    "\n",
    "dummy = Pipeline([\n",
    "    (\"preprocessor\", \n",
    "     linear_model_preprocessor),\n",
    "    (\"regressor\", \n",
    "     DummyRegressor(strategy='mean')),\n",
    "]).fit(df_train, \n",
    "       df_train[\"Frequency\"],\n",
    "       regressor__sample_weight=df_train[\"Exposure\"])"
   ]
  },
  {
   "cell_type": "markdown",
   "metadata": {},
   "source": [
    "- Find baseline performance (score) with 3 regression metrics."
   ]
  },
  {
   "cell_type": "code",
   "execution_count": 7,
   "metadata": {},
   "outputs": [
    {
     "name": "stdout",
     "output_type": "stream",
     "text": [
      "Constant mean frequency evaluation:\n",
      "MSE: 0.564\n",
      "MAE: 0.189\n",
      "mean Poisson deviance: 0.625\n"
     ]
    }
   ],
   "source": [
    "from sklearn.metrics import mean_squared_error\n",
    "from sklearn.metrics import mean_absolute_error\n",
    "from sklearn.metrics import mean_poisson_deviance\n",
    "\n",
    "\n",
    "def score_estimator(estimator, df_test):\n",
    "    \"\"\"Score an estimator on the test set.\"\"\"\n",
    "    y_pred = estimator.predict(df_test)\n",
    "\n",
    "    print(\"MSE: %.3f\" %\n",
    "          mean_squared_error(df_test[\"Frequency\"], y_pred,\n",
    "                             sample_weight=df_test[\"Exposure\"]))\n",
    "    print(\"MAE: %.3f\" %\n",
    "          mean_absolute_error(df_test[\"Frequency\"], y_pred,\n",
    "                              sample_weight=df_test[\"Exposure\"]))\n",
    "\n",
    "    # Ignore non-positive predictions (invalid for Poisson deviance.)\n",
    "    mask = y_pred > 0\n",
    "    if (~mask).any():\n",
    "        n_masked, n_samples = (~mask).sum(), mask.shape[0]\n",
    "        print(f\"WARNING: Estimator yields invalid, non-positive predictions \"\n",
    "              f\" for {n_masked} samples out of {n_samples}. These predictions \"\n",
    "              f\"are ignored when computing the Poisson deviance.\")\n",
    "\n",
    "    print(\"mean Poisson deviance: %.3f\" %\n",
    "          mean_poisson_deviance(df_test[\"Frequency\"][mask],\n",
    "                                y_pred[mask],\n",
    "                                sample_weight=df_test[\"Exposure\"][mask]))\n",
    "\n",
    "print(\"Constant mean frequency evaluation:\")\n",
    "score_estimator(dummy, df_test)"
   ]
  },
  {
   "cell_type": "markdown",
   "metadata": {},
   "source": [
    "- Model the target variable with a L2-penalized least squares linear regression (aka Ridge). Use a low value of ```alpha``` - expect the model to underfit such a large dataset."
   ]
  },
  {
   "cell_type": "code",
   "execution_count": 8,
   "metadata": {},
   "outputs": [],
   "source": [
    "from sklearn.linear_model import Ridge\n",
    "\n",
    "ridge_glm = Pipeline([\n",
    "    (\"preprocessor\", \n",
    "     linear_model_preprocessor),\n",
    "    (\"regressor\", \n",
    "     Ridge(alpha=1e-6)),\n",
    "]).fit(df_train, \n",
    "       df_train[\"Frequency\"],\n",
    "       regressor__sample_weight=df_train[\"Exposure\"])"
   ]
  },
  {
   "cell_type": "markdown",
   "metadata": {},
   "source": [
    "- Poisson deviance can't be used on negative values predicted by the model."
   ]
  },
  {
   "cell_type": "code",
   "execution_count": 9,
   "metadata": {},
   "outputs": [
    {
     "name": "stdout",
     "output_type": "stream",
     "text": [
      "Ridge evaluation:\n",
      "MSE: 0.560\n",
      "MAE: 0.177\n",
      "WARNING: Estimator yields invalid, non-positive predictions  for 1315 samples out of 223745. These predictions are ignored when computing the Poisson deviance.\n",
      "mean Poisson deviance: 0.601\n"
     ]
    }
   ],
   "source": [
    "print(\"Ridge evaluation:\")\n",
    "score_estimator(ridge_glm, df_test)"
   ]
  },
  {
   "cell_type": "markdown",
   "metadata": {},
   "source": [
    "- Model the targets with a Poisson regressor. Use regularization strength ```alpha=1e-6``` to mimic the Ridge regressor - whose L2 penalty scales differently with the number of samples\n",
    "- The Poisson regressor (internally) models the _log_ of the expected target value (log vs identity link function), the X/y relationship is no longer strictly linear.\n",
    "- This is why the Poisson regressor is called a _Generalized Linear Model_ (GLM)."
   ]
  },
  {
   "cell_type": "code",
   "execution_count": 10,
   "metadata": {},
   "outputs": [
    {
     "name": "stdout",
     "output_type": "stream",
     "text": [
      "PoissonRegressor evaluation:\n",
      "MSE: 0.560\n",
      "MAE: 0.186\n",
      "mean Poisson deviance: 0.594\n"
     ]
    }
   ],
   "source": [
    "from sklearn.linear_model import PoissonRegressor\n",
    "\n",
    "n_samples = df_train.shape[0]\n",
    "\n",
    "poisson_glm = Pipeline([\n",
    "    (\"preprocessor\", linear_model_preprocessor),\n",
    "    (\"regressor\", PoissonRegressor(alpha=1e-12, max_iter=300))\n",
    "])\n",
    "poisson_glm.fit(df_train, df_train[\"Frequency\"],\n",
    "                regressor__sample_weight=df_train[\"Exposure\"])\n",
    "\n",
    "print(\"PoissonRegressor evaluation:\")\n",
    "score_estimator(poisson_glm, df_test)"
   ]
  },
  {
   "cell_type": "markdown",
   "metadata": {},
   "source": [
    "- Model the targets using a non-linear model (Gradient Boosting Regression Tree).\n",
    "- GBRTs do not need one-hot encoded (via [OneHotEncoder](https://scikit-learn.org/stable/modules/generated/sklearn.preprocessing.OneHotEncoder.html#sklearn.preprocessing.OneHotEncoder)) category data. Instead we can add category data with arbitray integers via [OrdinalEncoder](https://scikit-learn.org/stable/modules/generated/sklearn.preprocessing.OrdinalEncoder.html#sklearn.preprocessing.OrdinalEncoder). This will make the training faster.\n",
    "- Gradient Boosting also allows fitting with Poisson loss function instead of the default least squares loss."
   ]
  },
  {
   "cell_type": "code",
   "execution_count": 11,
   "metadata": {},
   "outputs": [
    {
     "name": "stdout",
     "output_type": "stream",
     "text": [
      "Poisson Gradient Boosted Trees evaluation:\n",
      "MSE: 0.564\n",
      "MAE: 0.184\n",
      "mean Poisson deviance: 0.575\n"
     ]
    }
   ],
   "source": [
    "from sklearn.experimental import enable_hist_gradient_boosting  # noqa\n",
    "from sklearn.ensemble import HistGradientBoostingRegressor\n",
    "from sklearn.preprocessing import OrdinalEncoder\n",
    "\n",
    "\n",
    "tree_preprocessor = ColumnTransformer(\n",
    "    [\n",
    "        (\"categorical\", OrdinalEncoder(),\n",
    "            [\"VehBrand\", \"VehPower\", \"VehGas\", \"Region\", \"Area\"]),\n",
    "        (\"numeric\", \"passthrough\",\n",
    "            [\"VehAge\", \"DrivAge\", \"BonusMalus\", \"Density\"]),\n",
    "    ],\n",
    "    remainder=\"drop\",\n",
    ")\n",
    "poisson_gbrt = Pipeline([\n",
    "    (\"preprocessor\", tree_preprocessor),\n",
    "    (\"regressor\", HistGradientBoostingRegressor(loss=\"poisson\",\n",
    "                                                max_leaf_nodes=128)),\n",
    "])\n",
    "poisson_gbrt.fit(df_train, df_train[\"Frequency\"],\n",
    "                 regressor__sample_weight=df_train[\"Exposure\"])\n",
    "\n",
    "print(\"Poisson Gradient Boosted Trees evaluation:\")\n",
    "score_estimator(poisson_gbrt, df_test)"
   ]
  },
  {
   "cell_type": "markdown",
   "metadata": {},
   "source": [
    "- GBRTs minimize Poisson deviance.\n",
    "- Evaluating models with a single train/test split is prone to random flunctuations. Use cross-validation to smooth out the data if compute time allows it.\n",
    "- Model differences can be better understand via a observed-vs-predicted value histogram."
   ]
  },
  {
   "cell_type": "code",
   "execution_count": 12,
   "metadata": {},
   "outputs": [
    {
     "data": {
      "image/png": "[encoded data removed]",
      "text/plain": [
       "<Figure size 1152x432 with 8 Axes>"
      ]
     },
     "metadata": {
      "needs_background": "light"
     },
     "output_type": "display_data"
    }
   ],
   "source": [
    "fig, axes = plt.subplots(nrows=2, ncols=4, figsize=(16, 6), sharey=True)\n",
    "fig.subplots_adjust(bottom=0.2)\n",
    "n_bins = 20\n",
    "for row_idx, label, df in zip(range(2),\n",
    "                              [\"train\", \"test\"],\n",
    "                              [df_train, df_test]):\n",
    "    df[\"Frequency\"].hist(bins=np.linspace(-1, 30, n_bins),\n",
    "                         ax=axes[row_idx, 0])\n",
    "\n",
    "    axes[row_idx, 0].set_title(\"Data\")\n",
    "    axes[row_idx, 0].set_yscale('log')\n",
    "    axes[row_idx, 0].set_xlabel(\"y (observed Frequency)\")\n",
    "    axes[row_idx, 0].set_ylim([1e1, 5e5])\n",
    "    axes[row_idx, 0].set_ylabel(label + \" samples\")\n",
    "\n",
    "    for idx, model in enumerate([ridge_glm, poisson_glm, poisson_gbrt]):\n",
    "        y_pred = model.predict(df)\n",
    "\n",
    "        pd.Series(y_pred).hist(bins=np.linspace(-1, 4, n_bins),\n",
    "                               ax=axes[row_idx, idx+1])\n",
    "        axes[row_idx, idx + 1].set(\n",
    "            title=model[-1].__class__.__name__,\n",
    "            yscale='log',\n",
    "            xlabel=\"y_pred (predicted expected Frequency)\"\n",
    "        )\n",
    "plt.tight_layout()"
   ]
  },
  {
   "cell_type": "markdown",
   "metadata": {},
   "source": []
  }
 ],
 "metadata": {
  "kernelspec": {
   "display_name": "Python 3",
   "language": "python",
   "name": "python3"
  },
  "language_info": {
   "codemirror_mode": {
    "name": "ipython",
    "version": 3
   },
   "file_extension": ".py",
   "mimetype": "text/x-python",
   "name": "python",
   "nbconvert_exporter": "python",
   "pygments_lexer": "ipython3",
   "version": "3.6.9"
  }
 },
 "nbformat": 4,
 "nbformat_minor": 4
}

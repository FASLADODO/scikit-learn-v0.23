{
 "cells": [
  {
   "cell_type": "markdown",
   "metadata": {},
   "source": [
    "## Passive-Aggressive Algorithms\n",
    "- Suitable for large-scale learning.\n",
    "- They do not need a learning rate, but do utilize a ```C``` regularization parameter."
   ]
  },
  {
   "cell_type": "markdown",
   "metadata": {},
   "source": [
    "## [Passive-Aggressive Classification](https://scikit-learn.org/stable/modules/generated/sklearn.linear_model.PassiveAggressiveClassifier.html#sklearn.linear_model.PassiveAggressiveClassifier)\n",
    "- loss options: ```loss='hinge'``` or ```loss='squared_hinge'```"
   ]
  },
  {
   "cell_type": "code",
   "execution_count": 1,
   "metadata": {},
   "outputs": [
    {
     "name": "stdout",
     "output_type": "stream",
     "text": [
      "[[0.26642044 0.45070924 0.67251877 0.64185414]] [1.84127814] [1]\n"
     ]
    }
   ],
   "source": [
    "from sklearn.linear_model import PassiveAggressiveClassifier\n",
    "from sklearn.datasets import make_classification\n",
    "\n",
    "X, y = make_classification(n_features=4, random_state=0)\n",
    "clf = PassiveAggressiveClassifier(max_iter     = 1000, \n",
    "                                  random_state = 0, \n",
    "                                  tol          = 1e-3)\n",
    "clf.fit(X, y)\n",
    "print(clf.coef_, clf.intercept_, clf.predict([[0, 0, 0, 0]]))"
   ]
  },
  {
   "cell_type": "markdown",
   "metadata": {},
   "source": [
    "## [Passive-Aggressive Regression](https://scikit-learn.org/stable/modules/generated/sklearn.linear_model.PassiveAggressiveRegressor.html#sklearn.linear_model.PassiveAggressiveRegressor)\n",
    "- loss options: ```loss='epsilon_insensitive'``` or ```loss='squared_epsilon_insensitive'```"
   ]
  },
  {
   "cell_type": "code",
   "execution_count": 2,
   "metadata": {},
   "outputs": [
    {
     "name": "stdout",
     "output_type": "stream",
     "text": [
      "[20.48736655 34.18818427 67.59122734 87.94731329] [-0.02306214] [-0.02306214]\n"
     ]
    }
   ],
   "source": [
    "from sklearn.linear_model import PassiveAggressiveRegressor\n",
    "from sklearn.datasets import make_regression\n",
    "\n",
    "X, y = make_regression(n_features=4, random_state=0)\n",
    "regr = PassiveAggressiveRegressor(max_iter     = 100, \n",
    "                                  random_state = 0,\n",
    "                                  tol          = 1e-3)\n",
    "regr.fit(X, y)\n",
    "\n",
    "print(regr.coef_, regr.intercept_, regr.predict([[0, 0, 0, 0]]))"
   ]
  },
  {
   "cell_type": "code",
   "execution_count": null,
   "metadata": {},
   "outputs": [],
   "source": []
  }
 ],
 "metadata": {
  "kernelspec": {
   "display_name": "Python 3",
   "language": "python",
   "name": "python3"
  },
  "language_info": {
   "codemirror_mode": {
    "name": "ipython",
    "version": 3
   },
   "file_extension": ".py",
   "mimetype": "text/x-python",
   "name": "python",
   "nbconvert_exporter": "python",
   "pygments_lexer": "ipython3",
   "version": "3.6.9"
  }
 },
 "nbformat": 4,
 "nbformat_minor": 4
}

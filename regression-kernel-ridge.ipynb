{
 "cells": [
  {
   "cell_type": "code",
   "execution_count": 1,
   "metadata": {},
   "outputs": [
    {
     "name": "stdout",
     "output_type": "stream",
     "text": [
      "Using matplotlib backend: Qt5Agg\n"
     ]
    }
   ],
   "source": [
    "%matplotlib"
   ]
  },
  {
   "cell_type": "markdown",
   "metadata": {},
   "source": [
    "## [Kernel ridge regression](https://scikit-learn.org/stable/modules/generated/sklearn.kernel_ridge.KernelRidge.html#sklearn.kernel_ridge.KernelRidge) (KRR)\n",
    "- KRR learns nonlinear functions by combining Ridge regression (linear least squares, L2-norm regularization) with the kernel trick."
   ]
  },
  {
   "cell_type": "markdown",
   "metadata": {},
   "source": [
    "## Example: KRR vs SVR\n",
    "- both methods learn a non-linear function via the kernel trick. (They learn a linear function in the space influenced by the kernel which corresponds to a non-linear function in the original space.)\n",
    "\n",
    "- Dataset: artificial sinusoidal function with noise added to every 5th datapoint.\n",
    "- 1st figure: compares KRR & SVR learned model when the regularization and RBF kernel bandwidth is optimized via grid search.\n",
    "    - SVR prediction is ~40% faster. (due to using a sparse model?)"
   ]
  },
  {
   "cell_type": "code",
   "execution_count": 2,
   "metadata": {},
   "outputs": [],
   "source": [
    "import time\n",
    "import numpy as np\n",
    "from sklearn.svm import SVR\n",
    "from sklearn.model_selection import GridSearchCV\n",
    "from sklearn.model_selection import learning_curve\n",
    "from sklearn.kernel_ridge import KernelRidge\n",
    "import matplotlib.pyplot as plt\n",
    "\n",
    "rng = np.random.RandomState(0)"
   ]
  },
  {
   "cell_type": "code",
   "execution_count": 3,
   "metadata": {},
   "outputs": [],
   "source": [
    "# Generate sample data with noise\n",
    "X       = 5 * rng.rand(10000, 1)\n",
    "y       = np.sin(X).ravel()\n",
    "y[::5] += 3*(0.5 - rng.rand(X.shape[0] // 5))\n",
    "X_plot  = np.linspace(0, 5, 100000)[:, None]"
   ]
  },
  {
   "cell_type": "code",
   "execution_count": 4,
   "metadata": {},
   "outputs": [
    {
     "name": "stdout",
     "output_type": "stream",
     "text": [
      "SVR fit in 0.875 s\n",
      "KRR fit in 0.761 s\n",
      "Support vector ratio: 0.320\n",
      "SVR prediction for 100000 inputs in 0.151 s\n",
      "KRR prediction for 100000 inputs in 0.361 s\n"
     ]
    }
   ],
   "source": [
    "# Fit regression model\n",
    "train_size = 100\n",
    "svr = GridSearchCV(SVR(kernel='rbf', \n",
    "                       gamma=0.1),\n",
    "                   param_grid={\"C\":     [1e0, 1e1, 1e2, 1e3],\n",
    "                               \"gamma\": np.logspace(-2, 2, 5)})\n",
    "\n",
    "kr = GridSearchCV(KernelRidge(kernel='rbf', \n",
    "                              gamma=0.1),\n",
    "                  param_grid={\"alpha\": [1e0, 0.1, 1e-2, 1e-3],\n",
    "                              \"gamma\": np.logspace(-2, 2, 5)})\n",
    "\n",
    "t0 = time.time()\n",
    "svr.fit(X[:train_size], y[:train_size])\n",
    "svr_fit = time.time() - t0\n",
    "print(\"SVR fit in %.3f s\" % svr_fit)\n",
    "\n",
    "t0 = time.time()\n",
    "kr.fit(X[:train_size], y[:train_size])\n",
    "kr_fit = time.time() - t0\n",
    "print(\"KRR fit in %.3f s\" % kr_fit)\n",
    "\n",
    "sv_ratio = svr.best_estimator_.support_.shape[0] / train_size\n",
    "print(\"Support vector ratio: %.3f\" % sv_ratio)\n",
    "\n",
    "t0          = time.time()\n",
    "y_svr       = svr.predict(X_plot)\n",
    "svr_predict = time.time() - t0\n",
    "\n",
    "print(\"SVR prediction for %d inputs in %.3f s\"\n",
    "      % (X_plot.shape[0], svr_predict))\n",
    "\n",
    "t0         = time.time()\n",
    "y_kr       = kr.predict(X_plot)\n",
    "kr_predict = time.time() - t0\n",
    "\n",
    "print(\"KRR prediction for %d inputs in %.3f s\"\n",
    "      % (X_plot.shape[0], kr_predict))"
   ]
  },
  {
   "cell_type": "code",
   "execution_count": 5,
   "metadata": {},
   "outputs": [
    {
     "data": {
      "text/plain": [
       "<Figure size 432x288 with 0 Axes>"
      ]
     },
     "execution_count": 5,
     "metadata": {},
     "output_type": "execute_result"
    },
    {
     "data": {
      "image/png": "[encoded data removed]",
      "text/plain": [
       "<Figure size 432x288 with 1 Axes>"
      ]
     },
     "metadata": {
      "needs_background": "light"
     },
     "output_type": "display_data"
    },
    {
     "data": {
      "text/plain": [
       "<Figure size 432x288 with 0 Axes>"
      ]
     },
     "metadata": {},
     "output_type": "display_data"
    }
   ],
   "source": [
    "# Look at the results\n",
    "sv_ind = svr.best_estimator_.support_\n",
    "\n",
    "plt.scatter(X[sv_ind], \n",
    "            y[sv_ind], \n",
    "            c='r', s=50, \n",
    "            label='SVR support vectors',\n",
    "            zorder=2, \n",
    "            edgecolors=(0, 0, 0))\n",
    "\n",
    "plt.scatter(X[:100], \n",
    "            y[:100], \n",
    "            c='k', \n",
    "            label='data', \n",
    "            zorder=1,\n",
    "            edgecolors=(0, 0, 0))\n",
    "\n",
    "plt.plot(X_plot, \n",
    "         y_svr, \n",
    "         c='r',\n",
    "         label='SVR (fit: %.3fs, predict: %.3fs)' % (svr_fit, svr_predict))\n",
    "\n",
    "plt.plot(X_plot, \n",
    "         y_kr, \n",
    "         c='g',\n",
    "         label='KRR (fit: %.3fs, predict: %.3fs)' % (kr_fit, kr_predict))\n",
    "\n",
    "plt.xlabel('data')\n",
    "plt.ylabel('target')\n",
    "plt.title('SVR versus Kernel Ridge')\n",
    "plt.legend()\n",
    "plt.figure()"
   ]
  },
  {
   "cell_type": "markdown",
   "metadata": {},
   "source": [
    "- Next: compare fit & predict times for KRR & SVR with varying sizes of the training dataset."
   ]
  },
  {
   "cell_type": "code",
   "execution_count": null,
   "metadata": {},
   "outputs": [
    {
     "name": "stdout",
     "output_type": "stream",
     "text": [
      "sizes:\t [   10    31   100   316  1000  3162 10000]\n"
     ]
    }
   ],
   "source": [
    "# Generate sample data\n",
    "X       = 5 * rng.rand(10000, 1)\n",
    "y       = np.sin(X).ravel()\n",
    "y[::5] += 3 * (0.5 - rng.rand(X.shape[0] // 5))\n",
    "sizes   = np.logspace(1, 4, 7).astype(np.int)\n",
    "\n",
    "print(\"sizes:\\t\",sizes)\n",
    "\n",
    "for name, estimator in {\"KRR\": KernelRidge(kernel='rbf', \n",
    "                                           alpha=0.1,\n",
    "                                           gamma=10),\n",
    "                        \"SVR\": SVR(        kernel='rbf', \n",
    "                                           C=1e1, \n",
    "                                           gamma=10)}.items():\n",
    "    train_time, test_time = [],[]\n",
    "\n",
    "    for train_test_size in sizes:\n",
    "        t0 = time.time()\n",
    "        estimator.fit(X[:train_test_size], \n",
    "                      y[:train_test_size])\n",
    "        train_time.append(time.time() - t0)\n",
    "\n",
    "        t0 = time.time()\n",
    "        estimator.predict(X_plot[:1000])\n",
    "        test_time.append(time.time() - t0)\n",
    "\n",
    "    plt.plot(sizes, \n",
    "             train_time, \n",
    "             'o-', color=\"r\" if name == \"SVR\" else \"g\",\n",
    "             label=\"%s (train)\" % name)\n",
    "    \n",
    "    plt.plot(sizes, \n",
    "             test_time, \n",
    "             'o--', color=\"r\" if name == \"SVR\" else \"g\",\n",
    "             label=\"%s (test)\" % name)\n",
    "\n",
    "plt.xscale(\"log\")\n",
    "plt.yscale(\"log\")\n",
    "plt.xlabel(\"Train size\")\n",
    "plt.ylabel(\"Time (seconds)\")\n",
    "plt.title('Execution Time')\n",
    "plt.legend(loc=\"best\")\n",
    "plt.figure()"
   ]
  },
  {
   "cell_type": "code",
   "execution_count": null,
   "metadata": {},
   "outputs": [],
   "source": [
    "svr = SVR(        kernel='rbf', C=1e1,     gamma=0.1)\n",
    "kr  = KernelRidge(kernel='rbf', alpha=0.1, gamma=0.1)\n",
    "\n",
    "train_sizes, train_scores_svr, test_scores_svr = \\\n",
    "    learning_curve(svr, \n",
    "                   X[:100], \n",
    "                   y[:100], \n",
    "                   train_sizes=np.linspace(0.1, 1, 10),\n",
    "                   scoring=\"neg_mean_squared_error\", \n",
    "                   cv=10)\n",
    "\n",
    "train_sizes_abs, train_scores_kr, test_scores_kr = \\\n",
    "    learning_curve(kr, \n",
    "                   X[:100], \n",
    "                   y[:100], \n",
    "                   train_sizes=np.linspace(0.1, 1, 10),\n",
    "                   scoring=\"neg_mean_squared_error\", \n",
    "                   cv=10)\n",
    "\n",
    "plt.plot(train_sizes, \n",
    "         -test_scores_svr.mean(1), \n",
    "         'o-', \n",
    "         color=\"r\",\n",
    "         label=\"SVR\")\n",
    "\n",
    "plt.plot(train_sizes, \n",
    "         -test_scores_kr.mean(1), \n",
    "         'o-', \n",
    "         color=\"g\",\n",
    "         label=\"KRR\")\n",
    "\n",
    "plt.xlabel(\"Train size\")\n",
    "plt.ylabel(\"Mean Squared Error\")\n",
    "plt.title('Learning curves')\n",
    "plt.legend(loc=\"best\")\n",
    "plt.show()"
   ]
  },
  {
   "cell_type": "code",
   "execution_count": null,
   "metadata": {},
   "outputs": [],
   "source": []
  }
 ],
 "metadata": {
  "kernelspec": {
   "display_name": "Python 3",
   "language": "python",
   "name": "python3"
  },
  "language_info": {
   "codemirror_mode": {
    "name": "ipython",
    "version": 3
   },
   "file_extension": ".py",
   "mimetype": "text/x-python",
   "name": "python",
   "nbconvert_exporter": "python",
   "pygments_lexer": "ipython3",
   "version": "3.6.9"
  }
 },
 "nbformat": 4,
 "nbformat_minor": 4
}

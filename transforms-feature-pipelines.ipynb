{
 "cells": [
  {
   "cell_type": "code",
   "execution_count": 1,
   "metadata": {},
   "outputs": [],
   "source": [
    "%matplotlib inline"
   ]
  },
  {
   "cell_type": "markdown",
   "metadata": {},
   "source": [
    "## [Feature Pipelines](https://scikit-learn.org/stable/modules/compose.html)\n",
    "- Pipelines are composite tools. They combine dataset transformers with model builders (classifiers, regressors, ...) The most common type of transformer is a [Feature Union](https://scikit-learn.org/stable/modules/compose.html#feature-union), which combines transformer outputs.\n",
    "- Pipelines are built with a list of (key,value) pairs. Keys are the name you give to the step; values are estimator objects."
   ]
  },
  {
   "cell_type": "code",
   "execution_count": 3,
   "metadata": {},
   "outputs": [
    {
     "data": {
      "text/plain": [
       "Pipeline(steps=[('reduce_dim', PCA()), ('clf', SVC())])"
      ]
     },
     "execution_count": 3,
     "metadata": {},
     "output_type": "execute_result"
    }
   ],
   "source": [
    "from sklearn.pipeline import Pipeline\n",
    "from sklearn.svm import SVC\n",
    "from sklearn.decomposition import PCA\n",
    "estimators = [('reduce_dim', PCA()), \n",
    "              ('clf',        SVC())]\n",
    "pipe = Pipeline(estimators)\n",
    "pipe"
   ]
  },
  {
   "cell_type": "markdown",
   "metadata": {},
   "source": [
    "- [make_pipeline](https://scikit-learn.org/stable/modules/generated/sklearn.pipeline.make_pipeline.html#sklearn.pipeline.make_pipeline) is a \"shorthand\" utility function."
   ]
  },
  {
   "cell_type": "code",
   "execution_count": 4,
   "metadata": {},
   "outputs": [
    {
     "data": {
      "text/plain": [
       "Pipeline(steps=[('binarizer', Binarizer()), ('multinomialnb', MultinomialNB())])"
      ]
     },
     "execution_count": 4,
     "metadata": {},
     "output_type": "execute_result"
    }
   ],
   "source": [
    "from sklearn.pipeline import make_pipeline\n",
    "from sklearn.naive_bayes import MultinomialNB\n",
    "from sklearn.preprocessing import Binarizer\n",
    "make_pipeline(Binarizer(), MultinomialNB())"
   ]
  },
  {
   "cell_type": "markdown",
   "metadata": {},
   "source": [
    "- You can retrieve Pipeline properties in various ways."
   ]
  },
  {
   "cell_type": "code",
   "execution_count": 7,
   "metadata": {},
   "outputs": [
    {
     "name": "stdout",
     "output_type": "stream",
     "text": [
      "('reduce_dim', PCA()) PCA() PCA()\n",
      "True\n"
     ]
    }
   ],
   "source": [
    "print(pipe.steps[0], pipe[0], pipe['reduce_dim'])\n",
    "print(pipe.named_steps.reduce_dim is pipe['reduce_dim'])"
   ]
  },
  {
   "cell_type": "code",
   "execution_count": 8,
   "metadata": {},
   "outputs": [
    {
     "name": "stdout",
     "output_type": "stream",
     "text": [
      "Pipeline(steps=[('reduce_dim', PCA())]) Pipeline(steps=[('clf', SVC())])\n"
     ]
    }
   ],
   "source": [
    "print(pipe[:1], pipe[-1:])"
   ]
  },
  {
   "cell_type": "markdown",
   "metadata": {},
   "source": [
    "- You can also retrieve estimator params in various ways. This is particularly import for grid searches."
   ]
  },
  {
   "cell_type": "code",
   "execution_count": 9,
   "metadata": {},
   "outputs": [
    {
     "data": {
      "text/plain": [
       "Pipeline(steps=[('reduce_dim', PCA()), ('clf', SVC(C=10))])"
      ]
     },
     "execution_count": 9,
     "metadata": {},
     "output_type": "execute_result"
    }
   ],
   "source": [
    "pipe.set_params(clf__C=10)"
   ]
  },
  {
   "cell_type": "code",
   "execution_count": 10,
   "metadata": {},
   "outputs": [],
   "source": [
    "from sklearn.model_selection import GridSearchCV\n",
    "param_grid = dict(reduce_dim__n_components=[2, 5, 10],\n",
    "                  clf__C=[0.1, 10, 100])\n",
    "grid_search = GridSearchCV(pipe, param_grid=param_grid)"
   ]
  },
  {
   "cell_type": "markdown",
   "metadata": {},
   "source": [
    "- Steps can be replaced; non-final steps can be ignored."
   ]
  },
  {
   "cell_type": "code",
   "execution_count": 11,
   "metadata": {},
   "outputs": [],
   "source": [
    "from sklearn.linear_model import LogisticRegression\n",
    "\n",
    "param_grid = dict(reduce_dim=['passthrough', \n",
    "                              PCA(5), \n",
    "                              PCA(10)],\n",
    "                  clf=[SVC(), \n",
    "                       LogisticRegression()],\n",
    "                  clf__C=[0.1, 10, 100])\n",
    "\n",
    "grid_search = GridSearchCV(\n",
    "    pipe, \n",
    "    param_grid=param_grid)"
   ]
  },
  {
   "cell_type": "markdown",
   "metadata": {},
   "source": [
    "## [Example: Pipelined Anova SVM](https://scikit-learn.org/stable/auto_examples/feature_selection/plot_feature_selection_pipeline.html#sphx-glr-auto-examples-feature-selection-plot-feature-selection-pipeline-py)"
   ]
  },
  {
   "cell_type": "code",
   "execution_count": 12,
   "metadata": {},
   "outputs": [],
   "source": [
    "from sklearn                   import svm\n",
    "from sklearn.datasets          import make_classification\n",
    "from sklearn.feature_selection import SelectKBest, f_regression\n",
    "from sklearn.pipeline          import make_pipeline\n",
    "from sklearn.model_selection   import train_test_split\n",
    "from sklearn.metrics           import classification_report"
   ]
  },
  {
   "cell_type": "code",
   "execution_count": 13,
   "metadata": {},
   "outputs": [
    {
     "name": "stdout",
     "output_type": "stream",
     "text": [
      "              precision    recall  f1-score   support\n",
      "\n",
      "           0       1.00      1.00      1.00         5\n",
      "           1       1.00      1.00      1.00         6\n",
      "           2       1.00      1.00      1.00         7\n",
      "           3       1.00      1.00      1.00         7\n",
      "\n",
      "    accuracy                           1.00        25\n",
      "   macro avg       1.00      1.00      1.00        25\n",
      "weighted avg       1.00      1.00      1.00        25\n",
      "\n",
      "[[ 0.          0.          0.          0.07063231 -0.25105159  0.\n",
      "  -0.35149506  0.          0.          0.          0.          0.\n",
      "   0.          0.          0.          0.          0.          0.\n",
      "   0.          0.        ]\n",
      " [ 0.          0.          0.          0.15418806 -0.70725932  0.\n",
      "   0.86262154  0.          0.          0.          0.          0.\n",
      "   0.          0.          0.          0.          0.          0.\n",
      "   0.          0.        ]\n",
      " [ 0.          0.          0.          0.16695494  0.29459743  0.\n",
      "  -0.51196107  0.          0.          0.          0.          0.\n",
      "   0.          0.          0.          0.          0.          0.\n",
      "   0.          0.        ]\n",
      " [ 0.          0.          0.         -0.49097514  0.36877764  0.\n",
      "   0.50158709  0.          0.          0.          0.          0.\n",
      "   0.          0.          0.          0.          0.          0.\n",
      "   0.          0.        ]]\n"
     ]
    }
   ],
   "source": [
    "X, y = make_classification(n_features           = 20, \n",
    "                           n_informative        = 3, \n",
    "                           n_redundant          = 0, \n",
    "                           n_classes            = 4,\n",
    "                           n_clusters_per_class = 2)\n",
    "\n",
    "X_train, X_test, y_train, y_test = train_test_split(X, y, random_state=42)\n",
    "\n",
    "# ANOVA SVM-C\n",
    "# 1) anova filter, take 3 best ranked features\n",
    "anova_filter = SelectKBest(f_regression, k=3)\n",
    "# 2) svm\n",
    "clf = svm.LinearSVC()\n",
    "\n",
    "anova_svm = make_pipeline(anova_filter, clf)\n",
    "anova_svm.fit(X_train, y_train)\n",
    "y_pred = anova_svm.predict(X_test)\n",
    "print(classification_report(y_test, y_pred))\n",
    "\n",
    "coef = anova_svm[:-1].inverse_transform(anova_svm['linearsvc'].coef_)\n",
    "print(coef)"
   ]
  },
  {
   "cell_type": "markdown",
   "metadata": {},
   "source": [
    "## [Example: text feature extraction/eval pipeline](https://scikit-learn.org/stable/auto_examples/model_selection/grid_search_text_feature_extraction.html#sphx-glr-auto-examples-model-selection-grid-search-text-feature-extraction-py)\n",
    "- 20 newsgroups dataset"
   ]
  },
  {
   "cell_type": "code",
   "execution_count": 14,
   "metadata": {},
   "outputs": [],
   "source": [
    "from pprint import pprint\n",
    "from time import time\n",
    "import logging\n",
    "from sklearn.datasets                import fetch_20newsgroups\n",
    "from sklearn.feature_extraction.text import CountVectorizer\n",
    "from sklearn.feature_extraction.text import TfidfTransformer\n",
    "from sklearn.linear_model            import SGDClassifier\n",
    "from sklearn.model_selection         import GridSearchCV\n",
    "from sklearn.pipeline                import Pipeline"
   ]
  },
  {
   "cell_type": "code",
   "execution_count": 15,
   "metadata": {},
   "outputs": [
    {
     "name": "stdout",
     "output_type": "stream",
     "text": [
      "Loading 20 newsgroups dataset for categories:\n",
      "['alt.atheism', 'talk.religion.misc']\n",
      "857 documents\n",
      "2 categories\n"
     ]
    }
   ],
   "source": [
    "categories = [\n",
    "    'alt.atheism',\n",
    "    'talk.religion.misc',\n",
    "]\n",
    "# Uncomment the following to do the analysis on all the categories\n",
    "#categories = None\n",
    "\n",
    "print(\"Loading 20 newsgroups dataset for categories:\")\n",
    "print(categories)\n",
    "\n",
    "data = fetch_20newsgroups(subset='train', categories=categories)\n",
    "print(\"%d documents\" % len(data.filenames))\n",
    "print(\"%d categories\" % len(data.target_names))"
   ]
  },
  {
   "cell_type": "code",
   "execution_count": 16,
   "metadata": {},
   "outputs": [],
   "source": [
    "pipeline = Pipeline([\n",
    "    ('vect', CountVectorizer()),\n",
    "    ('tfidf', TfidfTransformer()),\n",
    "    ('clf', SGDClassifier()),\n",
    "])\n",
    "\n",
    "parameters = {\n",
    "    'vect__max_df': (0.5, 0.75, 1.0),\n",
    "    # 'vect__max_features': (None, 5000, 10000, 50000),\n",
    "    'vect__ngram_range': ((1, 1), (1, 2)),  # unigrams or bigrams\n",
    "    # 'tfidf__use_idf': (True, False),\n",
    "    # 'tfidf__norm': ('l1', 'l2'),\n",
    "    'clf__max_iter': (20,),\n",
    "    'clf__alpha': (0.00001, 0.000001),\n",
    "    'clf__penalty': ('l2', 'elasticnet'),\n",
    "    # 'clf__max_iter': (10, 50, 80),\n",
    "}\n"
   ]
  },
  {
   "cell_type": "code",
   "execution_count": 17,
   "metadata": {},
   "outputs": [
    {
     "name": "stdout",
     "output_type": "stream",
     "text": [
      "Performing grid search...\n",
      "pipeline: ['vect', 'tfidf', 'clf']\n",
      "parameters:\n",
      "{'clf__alpha': (1e-05, 1e-06),\n",
      " 'clf__max_iter': (20,),\n",
      " 'clf__penalty': ('l2', 'elasticnet'),\n",
      " 'vect__max_df': (0.5, 0.75, 1.0),\n",
      " 'vect__ngram_range': ((1, 1), (1, 2))}\n",
      "Fitting 5 folds for each of 24 candidates, totalling 120 fits\n"
     ]
    },
    {
     "name": "stderr",
     "output_type": "stream",
     "text": [
      "[Parallel(n_jobs=-1)]: Using backend LokyBackend with 8 concurrent workers.\n",
      "[Parallel(n_jobs=-1)]: Done  34 tasks      | elapsed:    6.0s\n",
      "[Parallel(n_jobs=-1)]: Done 120 out of 120 | elapsed:   17.2s finished\n"
     ]
    },
    {
     "name": "stdout",
     "output_type": "stream",
     "text": [
      "done in 18.201s\n",
      "Best score: 0.951\n",
      "Best parameters set:\n",
      "\tclf__alpha: 1e-06\n",
      "\tclf__max_iter: 20\n",
      "\tclf__penalty: 'elasticnet'\n",
      "\tvect__max_df: 1.0\n",
      "\tvect__ngram_range: (1, 2)\n"
     ]
    }
   ],
   "source": [
    "grid_search = GridSearchCV(pipeline, parameters, n_jobs=-1, verbose=1)\n",
    "\n",
    "print(\"Performing grid search...\")\n",
    "print(\"pipeline:\", [name for name, _ in pipeline.steps])\n",
    "print(\"parameters:\")\n",
    "\n",
    "pprint(parameters)\n",
    "t0 = time()\n",
    "grid_search.fit(data.data, data.target)\n",
    "print(\"done in %0.3fs\" % (time() - t0))\n",
    "\n",
    "print(\"Best score: %0.3f\" % grid_search.best_score_)\n",
    "print(\"Best parameters set:\")\n",
    "best_parameters = grid_search.best_estimator_.get_params()\n",
    "for param_name in sorted(parameters.keys()):\n",
    "    print(\"\\t%s: %r\" % (param_name, best_parameters[param_name]))\n"
   ]
  },
  {
   "cell_type": "markdown",
   "metadata": {},
   "source": [
    "## [Example: PCA/Logistic Regression Pipeline](https://scikit-learn.org/stable/auto_examples/compose/plot_digits_pipe.html#sphx-glr-auto-examples-compose-plot-digits-pipe-py)\n",
    "- Uses grid search to set PCA dimensionality"
   ]
  },
  {
   "cell_type": "code",
   "execution_count": 18,
   "metadata": {},
   "outputs": [],
   "source": [
    "import numpy as np\n",
    "import matplotlib.pyplot as plt\n",
    "import pandas as pd\n",
    "from sklearn                 import datasets\n",
    "from sklearn.decomposition   import PCA\n",
    "from sklearn.linear_model    import LogisticRegression\n",
    "from sklearn.pipeline        import Pipeline\n",
    "from sklearn.model_selection import GridSearchCV"
   ]
  },
  {
   "cell_type": "code",
   "execution_count": 19,
   "metadata": {},
   "outputs": [
    {
     "name": "stdout",
     "output_type": "stream",
     "text": [
      "Best parameter (CV score=0.920):\n",
      "{'logistic__C': 0.046415888336127774, 'pca__n_components': 45}\n"
     ]
    },
    {
     "data": {
      "text/plain": [
       "PCA()"
      ]
     },
     "execution_count": 19,
     "metadata": {},
     "output_type": "execute_result"
    }
   ],
   "source": [
    "pca = PCA()\n",
    "# set tolerance to a large value to make the example faster\n",
    "logistic = LogisticRegression(max_iter=10000, \n",
    "                              tol=0.1)\n",
    "pipe = Pipeline(steps=[('pca', pca), \n",
    "                       ('logistic', logistic)])\n",
    "\n",
    "X_digits, y_digits = datasets.load_digits(return_X_y=True)\n",
    "\n",
    "# Parameters of pipelines can be set using ‘__’ separated parameter names:\n",
    "param_grid = {\n",
    "    'pca__n_components': [5, 15, 30, 45, 64],\n",
    "    'logistic__C': np.logspace(-4, 4, 4),\n",
    "}\n",
    "search = GridSearchCV(pipe, param_grid, n_jobs=-1)\n",
    "search.fit(X_digits, y_digits)\n",
    "print(\"Best parameter (CV score=%0.3f):\" % search.best_score_)\n",
    "print(search.best_params_)\n",
    "\n",
    "# Plot the PCA spectrum\n",
    "pca.fit(X_digits)"
   ]
  },
  {
   "cell_type": "code",
   "execution_count": 20,
   "metadata": {},
   "outputs": [
    {
     "name": "stderr",
     "output_type": "stream",
     "text": [
      "/home/bjpcjp/.local/lib/python3.6/site-packages/pandas/plotting/_matplotlib/tools.py:307: MatplotlibDeprecationWarning: \n",
      "The rowNum attribute was deprecated in Matplotlib 3.2 and will be removed two minor releases later. Use ax.get_subplotspec().rowspan.start instead.\n",
      "  layout[ax.rowNum, ax.colNum] = ax.get_visible()\n",
      "/home/bjpcjp/.local/lib/python3.6/site-packages/pandas/plotting/_matplotlib/tools.py:307: MatplotlibDeprecationWarning: \n",
      "The colNum attribute was deprecated in Matplotlib 3.2 and will be removed two minor releases later. Use ax.get_subplotspec().colspan.start instead.\n",
      "  layout[ax.rowNum, ax.colNum] = ax.get_visible()\n",
      "/home/bjpcjp/.local/lib/python3.6/site-packages/pandas/plotting/_matplotlib/tools.py:313: MatplotlibDeprecationWarning: \n",
      "The rowNum attribute was deprecated in Matplotlib 3.2 and will be removed two minor releases later. Use ax.get_subplotspec().rowspan.start instead.\n",
      "  if not layout[ax.rowNum + 1, ax.colNum]:\n",
      "/home/bjpcjp/.local/lib/python3.6/site-packages/pandas/plotting/_matplotlib/tools.py:313: MatplotlibDeprecationWarning: \n",
      "The colNum attribute was deprecated in Matplotlib 3.2 and will be removed two minor releases later. Use ax.get_subplotspec().colspan.start instead.\n",
      "  if not layout[ax.rowNum + 1, ax.colNum]:\n"
     ]
    },
    {
     "data": {
      "image/png": "[encoded data removed]",
      "text/plain": [
       "<Figure size 432x432 with 2 Axes>"
      ]
     },
     "metadata": {
      "needs_background": "light"
     },
     "output_type": "display_data"
    }
   ],
   "source": [
    "fig, (ax0, ax1) = plt.subplots(nrows=2, sharex=True, figsize=(6, 6))\n",
    "\n",
    "ax0.plot(np.arange(1, pca.n_components_ + 1),\n",
    "         pca.explained_variance_ratio_, \n",
    "         '+', linewidth=2)\n",
    "\n",
    "ax0.set_ylabel('PCA explained variance ratio')\n",
    "\n",
    "ax0.axvline(search.best_estimator_.named_steps['pca'].n_components,\n",
    "            linestyle=':', \n",
    "            label='n_components chosen')\n",
    "\n",
    "ax0.legend(prop=dict(size=12))\n",
    "\n",
    "# For each number of components, find the best classifier results\n",
    "results        = pd.DataFrame(search.cv_results_)\n",
    "components_col = 'param_pca__n_components'\n",
    "best_clfs      = results.groupby(components_col).apply(\n",
    "    lambda g: g.nlargest(1, \n",
    "                         'mean_test_score'))\n",
    "\n",
    "best_clfs.plot(x=components_col, \n",
    "               y='mean_test_score', \n",
    "               yerr='std_test_score',\n",
    "               legend=False, \n",
    "               ax=ax1)\n",
    "ax1.set_ylabel('Classification accuracy (val)')\n",
    "ax1.set_xlabel('n_components')\n",
    "\n",
    "plt.xlim(-1, 70)\n",
    "\n",
    "plt.tight_layout()\n",
    "plt.show()"
   ]
  },
  {
   "cell_type": "markdown",
   "metadata": {},
   "source": [
    "## [Example: Feature map approximation, RBF kernels](https://scikit-learn.org/stable/auto_examples/miscellaneous/plot_kernel_approximation.html#sphx-glr-auto-examples-miscellaneous-plot-kernel-approximation-py)"
   ]
  },
  {
   "cell_type": "code",
   "execution_count": 21,
   "metadata": {},
   "outputs": [],
   "source": [
    "import matplotlib.pyplot as plt\n",
    "import numpy as np\n",
    "from time import time\n",
    "from sklearn import datasets, svm, pipeline\n",
    "from sklearn.kernel_approximation import (RBFSampler,Nystroem)\n",
    "from sklearn.decomposition import PCA\n",
    "digits = datasets.load_digits(n_class=9)"
   ]
  },
  {
   "cell_type": "markdown",
   "metadata": {},
   "source": [
    "- flatten the image into a matrix of (n_samples, n_features)"
   ]
  },
  {
   "cell_type": "code",
   "execution_count": 22,
   "metadata": {},
   "outputs": [],
   "source": [
    "n_samples = len(digits.data)\n",
    "data = digits.data / 16.\n",
    "data -= data.mean(axis=0)\n",
    "\n",
    "# We learn the digits on the first half of the digits\n",
    "data_train, targets_train = (data[:n_samples // 2],\n",
    "                             digits.target[:n_samples // 2])\n",
    "\n",
    "\n",
    "# Now predict the value of the digit on the second half:\n",
    "data_test, targets_test = (data[n_samples // 2:],\n",
    "                           digits.target[n_samples // 2:])\n",
    "# data_test = scaler.transform(data_test)\n",
    "\n",
    "# Create a classifier: a support vector classifier\n",
    "kernel_svm = svm.SVC(gamma=.2)\n",
    "linear_svm = svm.LinearSVC()\n",
    "\n",
    "# create pipeline from kernel approximation\n",
    "# and linear svm\n",
    "feature_map_fourier = RBFSampler(gamma=.2, random_state=1)\n",
    "feature_map_nystroem = Nystroem(gamma=.2, random_state=1)\n",
    "fourier_approx_svm = pipeline.Pipeline([(\"feature_map\", feature_map_fourier),\n",
    "                                        (\"svm\", svm.LinearSVC())])\n",
    "\n",
    "nystroem_approx_svm = pipeline.Pipeline([(\"feature_map\", feature_map_nystroem),\n",
    "                                        (\"svm\", svm.LinearSVC())])\n",
    "\n",
    "# fit and predict using linear and kernel svm:\n",
    "\n",
    "kernel_svm_time = time()\n",
    "kernel_svm.fit(data_train, targets_train)\n",
    "kernel_svm_score = kernel_svm.score(data_test, targets_test)\n",
    "kernel_svm_time = time() - kernel_svm_time\n",
    "\n",
    "linear_svm_time = time()\n",
    "linear_svm.fit(data_train, targets_train)\n",
    "linear_svm_score = linear_svm.score(data_test, targets_test)\n",
    "linear_svm_time = time() - linear_svm_time\n",
    "\n",
    "sample_sizes = 30 * np.arange(1, 10)\n",
    "fourier_scores = []\n",
    "nystroem_scores = []\n",
    "fourier_times = []\n",
    "nystroem_times = []\n",
    "\n",
    "for D in sample_sizes:\n",
    "    fourier_approx_svm.set_params(feature_map__n_components=D)\n",
    "    nystroem_approx_svm.set_params(feature_map__n_components=D)\n",
    "    start = time()\n",
    "    nystroem_approx_svm.fit(data_train, targets_train)\n",
    "    nystroem_times.append(time() - start)\n",
    "\n",
    "    start = time()\n",
    "    fourier_approx_svm.fit(data_train, targets_train)\n",
    "    fourier_times.append(time() - start)\n",
    "\n",
    "    fourier_score = fourier_approx_svm.score(data_test, targets_test)\n",
    "    nystroem_score = nystroem_approx_svm.score(data_test, targets_test)\n",
    "    nystroem_scores.append(nystroem_score)\n",
    "    fourier_scores.append(fourier_score)"
   ]
  },
  {
   "cell_type": "code",
   "execution_count": 23,
   "metadata": {},
   "outputs": [
    {
     "data": {
      "image/png": "[encoded data removed]",
      "text/plain": [
       "<Figure size 1152x288 with 2 Axes>"
      ]
     },
     "metadata": {
      "needs_background": "light"
     },
     "output_type": "display_data"
    }
   ],
   "source": [
    "# plot the results:\n",
    "plt.figure(figsize=(16, 4))\n",
    "accuracy = plt.subplot(121)\n",
    "# second y axis for timings\n",
    "timescale = plt.subplot(122)\n",
    "\n",
    "accuracy.plot(sample_sizes, nystroem_scores, label=\"Nystroem approx. kernel\")\n",
    "timescale.plot(sample_sizes, nystroem_times, '--',\n",
    "               label='Nystroem approx. kernel')\n",
    "\n",
    "accuracy.plot(sample_sizes, fourier_scores, label=\"Fourier approx. kernel\")\n",
    "timescale.plot(sample_sizes, fourier_times, '--',\n",
    "               label='Fourier approx. kernel')\n",
    "\n",
    "# horizontal lines for exact rbf and linear kernels:\n",
    "accuracy.plot([sample_sizes[0], sample_sizes[-1]],\n",
    "              [linear_svm_score, linear_svm_score], label=\"linear svm\")\n",
    "timescale.plot([sample_sizes[0], sample_sizes[-1]],\n",
    "               [linear_svm_time, linear_svm_time], '--', label='linear svm')\n",
    "\n",
    "accuracy.plot([sample_sizes[0], sample_sizes[-1]],\n",
    "              [kernel_svm_score, kernel_svm_score], label=\"rbf svm\")\n",
    "timescale.plot([sample_sizes[0], sample_sizes[-1]],\n",
    "               [kernel_svm_time, kernel_svm_time], '--', label='rbf svm')\n",
    "\n",
    "# vertical line for dataset dimensionality = 64\n",
    "accuracy.plot([64, 64], [0.7, 1], label=\"n_features\")\n",
    "\n",
    "# legends and labels\n",
    "accuracy.set_title(\"Classification accuracy\")\n",
    "timescale.set_title(\"Training times\")\n",
    "accuracy.set_xlim(sample_sizes[0], sample_sizes[-1])\n",
    "accuracy.set_xticks(())\n",
    "accuracy.set_ylim(np.min(fourier_scores), 1)\n",
    "timescale.set_xlabel(\"Sampling steps = transformed feature dimension\")\n",
    "accuracy.set_ylabel(\"Classification accuracy\")\n",
    "timescale.set_ylabel(\"Training time in seconds\")\n",
    "accuracy.legend(loc='best')\n",
    "timescale.legend(loc='best')\n",
    "plt.tight_layout()\n",
    "plt.show()"
   ]
  },
  {
   "cell_type": "markdown",
   "metadata": {},
   "source": [
    "## Transformer Caching\n",
    "- avoids unnecessary computation using the ```memory``` parameter."
   ]
  },
  {
   "cell_type": "code",
   "execution_count": 24,
   "metadata": {},
   "outputs": [
    {
     "name": "stdout",
     "output_type": "stream",
     "text": [
      "Pipeline(memory='/tmp/tmpsxvf6flc',\n",
      "         steps=[('reduce_dim', PCA()), ('clf', SVC())])\n"
     ]
    }
   ],
   "source": [
    "from tempfile              import mkdtemp\n",
    "from shutil                import rmtree\n",
    "from sklearn.decomposition import PCA\n",
    "from sklearn.svm           import SVC\n",
    "from sklearn.pipeline      import Pipeline\n",
    "\n",
    "estimators = [('reduce_dim', PCA()), \n",
    "              ('clf', SVC())]\n",
    "\n",
    "cachedir = mkdtemp()\n",
    "pipe = Pipeline(estimators, memory=cachedir)\n",
    "print(pipe)\n",
    "# Clear the cache directory when you don't need it anymore\n",
    "rmtree(cachedir)"
   ]
  },
  {
   "cell_type": "markdown",
   "metadata": {},
   "source": [
    "- Pipelines without caches allow you to inspect the original object:"
   ]
  },
  {
   "cell_type": "code",
   "execution_count": 25,
   "metadata": {},
   "outputs": [
    {
     "name": "stdout",
     "output_type": "stream",
     "text": [
      "[[-1.77484909e-19 -1.73094651e-02 -2.23428835e-01 ... -8.94184677e-02\n",
      "  -3.65977111e-02 -1.14684954e-02]\n",
      " [ 3.27805401e-18 -1.01064569e-02 -4.90849204e-02 ...  1.76697117e-01\n",
      "   1.94547053e-02 -6.69693895e-03]\n",
      " [-1.68358559e-18  1.83420720e-02  1.26475543e-01 ...  2.32084163e-01\n",
      "   1.67026563e-01  3.48043832e-02]\n",
      " ...\n",
      " [ 0.00000000e+00  6.66655322e-17  6.06747010e-18 ... -1.11022302e-16\n",
      "   1.11022302e-16  6.93889390e-17]\n",
      " [ 0.00000000e+00  2.47323788e-16  4.52931343e-17 ...  5.55111512e-17\n",
      "  -9.02056208e-17  1.94289029e-16]\n",
      " [ 1.00000000e+00 -1.68983002e-17  5.73338351e-18 ...  8.66631300e-18\n",
      "  -1.57615962e-17  4.07058917e-18]]\n"
     ]
    }
   ],
   "source": [
    "from sklearn.datasets import load_digits\n",
    "X_digits, y_digits = load_digits(return_X_y=True)\n",
    "\n",
    "pca1 = PCA(); svm1 = SVC()\n",
    "pipe = Pipeline([('reduce_dim', pca1), \n",
    "                 ('clf', svm1)])\n",
    "pipe.fit(X_digits, y_digits)\n",
    "print(pca1.components_)"
   ]
  },
  {
   "cell_type": "markdown",
   "metadata": {},
   "source": [
    "- Caching causes transformers to be cloned before fitting - so the transformer given to the pipeline can't be directly viewed."
   ]
  },
  {
   "cell_type": "code",
   "execution_count": 26,
   "metadata": {},
   "outputs": [
    {
     "name": "stdout",
     "output_type": "stream",
     "text": [
      "[[-1.77484909e-19 -1.73094651e-02 -2.23428835e-01 ... -8.94184677e-02\n",
      "  -3.65977111e-02 -1.14684954e-02]\n",
      " [ 3.27805401e-18 -1.01064569e-02 -4.90849204e-02 ...  1.76697117e-01\n",
      "   1.94547053e-02 -6.69693895e-03]\n",
      " [-1.68358559e-18  1.83420720e-02  1.26475543e-01 ...  2.32084163e-01\n",
      "   1.67026563e-01  3.48043832e-02]\n",
      " ...\n",
      " [ 0.00000000e+00  6.66655322e-17  6.06747010e-18 ... -1.11022302e-16\n",
      "   1.11022302e-16  6.93889390e-17]\n",
      " [ 0.00000000e+00  2.47323788e-16  4.52931343e-17 ...  5.55111512e-17\n",
      "  -9.02056208e-17  1.94289029e-16]\n",
      " [ 1.00000000e+00 -1.68983002e-17  5.73338351e-18 ...  8.66631300e-18\n",
      "  -1.57615962e-17  4.07058917e-18]]\n"
     ]
    }
   ],
   "source": [
    "cachedir = mkdtemp()\n",
    "pca2 = PCA(); svm2 = SVC()\n",
    "cached_pipe = Pipeline([('reduce_dim', pca2), \n",
    "                        ('clf', svm2)],\n",
    "                       memory=cachedir)\n",
    "cached_pipe.fit(X_digits, y_digits)\n",
    "\n",
    "print(cached_pipe.named_steps['reduce_dim'].components_)\n",
    "rmtree(cachedir)"
   ]
  },
  {
   "cell_type": "markdown",
   "metadata": {},
   "source": [
    "## [Transformers and Regressions](https://scikit-learn.org/stable/modules/generated/sklearn.compose.TransformedTargetRegressor.html#sklearn.compose.TransformedTargetRegressor)\n",
    "- This function transforms the targets (```y```) before fitting a regression model; the predictions are mapped back to the original space via an inverse transform."
   ]
  },
  {
   "cell_type": "code",
   "execution_count": 27,
   "metadata": {},
   "outputs": [
    {
     "name": "stdout",
     "output_type": "stream",
     "text": [
      "R2 score: 0.67\n",
      "R2 score: 0.64\n"
     ]
    },
    {
     "name": "stderr",
     "output_type": "stream",
     "text": [
      "/home/bjpcjp/.local/lib/python3.6/site-packages/sklearn/preprocessing/_data.py:2370: UserWarning: n_quantiles (1000) is greater than the total number of samples (379). n_quantiles is set to n_samples.\n",
      "  % (self.n_quantiles, n_samples))\n"
     ]
    }
   ],
   "source": [
    "import numpy as np\n",
    "from sklearn.datasets        import load_boston\n",
    "from sklearn.compose         import TransformedTargetRegressor\n",
    "from sklearn.preprocessing   import QuantileTransformer\n",
    "from sklearn.linear_model    import LinearRegression\n",
    "from sklearn.model_selection import train_test_split\n",
    "\n",
    "X, y        = load_boston(return_X_y=True)\n",
    "transformer = QuantileTransformer(output_distribution='normal')\n",
    "regressor   = LinearRegression()\n",
    "regr        = TransformedTargetRegressor(regressor=regressor,\n",
    "                                         transformer=transformer)\n",
    "\n",
    "X_train, X_test, y_train, y_test = train_test_split(X, y, random_state=0)\n",
    "regr.fit(X_train, y_train)\n",
    "\n",
    "print('R2 score: {0:.2f}'.format(regr.score(X_test, y_test)))\n",
    "raw_target_regr = LinearRegression().fit(X_train, y_train)\n",
    "print('R2 score: {0:.2f}'.format(raw_target_regr.score(X_test, y_test)))"
   ]
  },
  {
   "cell_type": "markdown",
   "metadata": {},
   "source": [
    "## [Example: Target Transforms in Regressions](https://scikit-learn.org/stable/auto_examples/compose/plot_transformed_target.html#sphx-glr-auto-examples-compose-plot-transformed-target-py)\n",
    "- illustrates the benefit of transforming targets before learning a linear regression model.\n",
    "- 1st example: synthetic data; 2nd example: Boston housing dataset. "
   ]
  },
  {
   "cell_type": "code",
   "execution_count": 28,
   "metadata": {},
   "outputs": [],
   "source": [
    "import numpy as np\n",
    "import matplotlib\n",
    "import matplotlib.pyplot as plt\n",
    "from distutils.version import LooseVersion"
   ]
  },
  {
   "cell_type": "code",
   "execution_count": 29,
   "metadata": {},
   "outputs": [],
   "source": [
    "# synthetic example\n",
    "from sklearn.datasets import make_regression\n",
    "from sklearn.model_selection import train_test_split\n",
    "from sklearn.linear_model import RidgeCV\n",
    "from sklearn.compose import TransformedTargetRegressor\n",
    "from sklearn.metrics import median_absolute_error, r2_score\n",
    "\n",
    "# `normed` is being deprecated in favor of `density` in histograms\n",
    "if LooseVersion(matplotlib.__version__) >= '2.1':\n",
    "    density_param = {'density': True}\n",
    "else:\n",
    "    density_param = {'normed': True}"
   ]
  },
  {
   "cell_type": "code",
   "execution_count": 30,
   "metadata": {},
   "outputs": [],
   "source": [
    "# y transform: 1) all target entries are non-negative;\n",
    "# 2) converted to non-linear via an exponential function\n",
    "X, y = make_regression(n_samples=10000, noise=100, random_state=0)\n",
    "y = np.exp((y + abs(y.min())) / 200)\n",
    "y_trans = np.log1p(y)"
   ]
  },
  {
   "cell_type": "code",
   "execution_count": 31,
   "metadata": {},
   "outputs": [
    {
     "data": {
      "image/png": "[encoded data removed]",
      "text/plain": [
       "<Figure size 432x288 with 2 Axes>"
      ]
     },
     "metadata": {
      "needs_background": "light"
     },
     "output_type": "display_data"
    }
   ],
   "source": [
    "# plot density functions of target before/after the transforms\n",
    "f, (ax0, ax1) = plt.subplots(1, 2)\n",
    "\n",
    "ax0.hist(y, bins=100, **density_param)\n",
    "ax0.set_xlim([0, 2000])\n",
    "ax0.set_ylabel('Probability')\n",
    "ax0.set_xlabel('Target')\n",
    "ax0.set_title('Target distribution')\n",
    "\n",
    "ax1.hist(y_trans, bins=100, **density_param)\n",
    "ax1.set_ylabel('Probability')\n",
    "ax1.set_xlabel('Target')\n",
    "ax1.set_title('Transformed target distribution')\n",
    "\n",
    "f.suptitle(\"Synthetic data\", y=0.035)\n",
    "f.tight_layout(rect=[0.05, 0.05, 0.95, 0.95])\n",
    "\n",
    "X_train, X_test, y_train, y_test = train_test_split(X, y, random_state=0)"
   ]
  },
  {
   "cell_type": "code",
   "execution_count": 34,
   "metadata": {},
   "outputs": [
    {
     "data": {
      "image/png": "[encoded data removed]",
      "text/plain": [
       "<Figure size 432x288 with 2 Axes>"
      ]
     },
     "metadata": {
      "needs_background": "light"
     },
     "output_type": "display_data"
    }
   ],
   "source": [
    "f, (ax0, ax1) = plt.subplots(1, 2, sharey=True)\n",
    "regr = RidgeCV()\n",
    "regr.fit(X_train, y_train)\n",
    "y_pred = regr.predict(X_test)\n",
    "\n",
    "ax0.scatter(y_test, y_pred)\n",
    "ax0.plot([0, 2000], [0, 2000], '--k')\n",
    "ax0.set_ylabel('Target predicted')\n",
    "ax0.set_xlabel('True Target')\n",
    "ax0.set_title('Ridge regression \\n without target transformation')\n",
    "ax0.text(100, 1750, r'$R^2$=%.2f, MAE=%.2f' % (\n",
    "    r2_score(y_test, y_pred), median_absolute_error(y_test, y_pred)))\n",
    "ax0.set_xlim([0, 2000])\n",
    "ax0.set_ylim([0, 2000])\n",
    "\n",
    "regr_trans = TransformedTargetRegressor(regressor=RidgeCV(),\n",
    "                                        func=np.log1p,\n",
    "                                        inverse_func=np.expm1)\n",
    "regr_trans.fit(X_train, y_train)\n",
    "y_pred = regr_trans.predict(X_test)\n",
    "\n",
    "ax1.scatter(y_test, y_pred)\n",
    "ax1.plot([0, 2000], [0, 2000], '--k')\n",
    "ax1.set_ylabel('Target predicted')\n",
    "ax1.set_xlabel('True Target')\n",
    "ax1.set_title('Ridge regression \\n with target transformation')\n",
    "ax1.text(100, 1750, r'$R^2$=%.2f, MAE=%.2f' % (\n",
    "    r2_score(y_test, y_pred), median_absolute_error(y_test, y_pred)))\n",
    "ax1.set_xlim([0, 2000])\n",
    "ax1.set_ylim([0, 2000])\n",
    "\n",
    "f.suptitle(\"Synthetic data\", y=0.035)\n",
    "f.tight_layout(rect=[0.05, 0.05, 0.95, 0.95])"
   ]
  },
  {
   "cell_type": "code",
   "execution_count": 35,
   "metadata": {},
   "outputs": [],
   "source": [
    "from sklearn.datasets import load_boston\n",
    "from sklearn.preprocessing import QuantileTransformer, quantile_transform\n",
    "\n",
    "dataset = load_boston()\n",
    "target = np.array(dataset.feature_names) == \"DIS\"\n",
    "X = dataset.data[:, np.logical_not(target)]\n",
    "y = dataset.data[:, target].squeeze()\n",
    "y_trans = quantile_transform(dataset.data[:, target],\n",
    "                             n_quantiles=300,\n",
    "                             output_distribution='normal',\n",
    "                             copy=True).squeeze()"
   ]
  },
  {
   "cell_type": "code",
   "execution_count": 36,
   "metadata": {},
   "outputs": [
    {
     "data": {
      "image/png": "[encoded data removed]",
      "text/plain": [
       "<Figure size 432x288 with 2 Axes>"
      ]
     },
     "metadata": {
      "needs_background": "light"
     },
     "output_type": "display_data"
    }
   ],
   "source": [
    "f, (ax0, ax1) = plt.subplots(1, 2)\n",
    "\n",
    "ax0.hist(y, bins=100, **density_param)\n",
    "ax0.set_ylabel('Probability')\n",
    "ax0.set_xlabel('Target')\n",
    "ax0.set_title('Target distribution')\n",
    "\n",
    "ax1.hist(y_trans, bins=100, **density_param)\n",
    "ax1.set_ylabel('Probability')\n",
    "ax1.set_xlabel('Target')\n",
    "ax1.set_title('Transformed target distribution')\n",
    "\n",
    "f.suptitle(\"Boston housing data: distance to employment centers\", y=0.035)\n",
    "f.tight_layout(rect=[0.05, 0.05, 0.95, 0.95])\n",
    "\n",
    "X_train, X_test, y_train, y_test = train_test_split(X, y, random_state=1)"
   ]
  },
  {
   "cell_type": "code",
   "execution_count": 37,
   "metadata": {},
   "outputs": [
    {
     "data": {
      "image/png": "[encoded data removed]",
      "text/plain": [
       "<Figure size 432x288 with 2 Axes>"
      ]
     },
     "metadata": {
      "needs_background": "light"
     },
     "output_type": "display_data"
    }
   ],
   "source": [
    "f, (ax0, ax1) = plt.subplots(1, 2, sharey=True)\n",
    "\n",
    "regr = RidgeCV()\n",
    "regr.fit(X_train, y_train)\n",
    "y_pred = regr.predict(X_test)\n",
    "\n",
    "ax0.scatter(y_test, y_pred)\n",
    "ax0.plot([0, 10], [0, 10], '--k')\n",
    "ax0.set_ylabel('Target predicted')\n",
    "ax0.set_xlabel('True Target')\n",
    "ax0.set_title('Ridge regression \\n without target transformation')\n",
    "ax0.text(1, 9, r'$R^2$=%.2f, MAE=%.2f' % (\n",
    "    r2_score(y_test, y_pred), median_absolute_error(y_test, y_pred)))\n",
    "ax0.set_xlim([0, 10])\n",
    "ax0.set_ylim([0, 10])\n",
    "\n",
    "regr_trans = TransformedTargetRegressor(\n",
    "    regressor=RidgeCV(),\n",
    "    transformer=QuantileTransformer(n_quantiles=300,\n",
    "                                    output_distribution='normal'))\n",
    "regr_trans.fit(X_train, y_train)\n",
    "y_pred = regr_trans.predict(X_test)\n",
    "\n",
    "ax1.scatter(y_test, y_pred)\n",
    "ax1.plot([0, 10], [0, 10], '--k')\n",
    "ax1.set_ylabel('Target predicted')\n",
    "ax1.set_xlabel('True Target')\n",
    "ax1.set_title('Ridge regression \\n with target transformation')\n",
    "ax1.text(1, 9, r'$R^2$=%.2f, MAE=%.2f' % (\n",
    "    r2_score(y_test, y_pred), median_absolute_error(y_test, y_pred)))\n",
    "ax1.set_xlim([0, 10])\n",
    "ax1.set_ylim([0, 10])\n",
    "\n",
    "f.suptitle(\"Boston housing data: distance to employment centers\", y=0.035)\n",
    "f.tight_layout(rect=[0.05, 0.05, 0.95, 0.95])\n",
    "\n",
    "plt.show()"
   ]
  },
  {
   "cell_type": "code",
   "execution_count": null,
   "metadata": {},
   "outputs": [],
   "source": []
  }
 ],
 "metadata": {
  "kernelspec": {
   "display_name": "Python 3",
   "language": "python",
   "name": "python3"
  },
  "language_info": {
   "codemirror_mode": {
    "name": "ipython",
    "version": 3
   },
   "file_extension": ".py",
   "mimetype": "text/x-python",
   "name": "python",
   "nbconvert_exporter": "python",
   "pygments_lexer": "ipython3",
   "version": "3.6.9"
  }
 },
 "nbformat": 4,
 "nbformat_minor": 4
}
